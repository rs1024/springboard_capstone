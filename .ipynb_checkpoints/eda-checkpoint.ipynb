{
 "cells": [
  {
   "cell_type": "code",
   "execution_count": 1,
   "metadata": {
    "collapsed": true
   },
   "outputs": [],
   "source": [
    "%matplotlib inline\n",
    "import pandas as pd\n",
    "import numpy as np\n",
    "import matplotlib.pyplot as plt\n",
    "import statsmodels.api as sm"
   ]
  },
  {
   "cell_type": "code",
   "execution_count": 2,
   "metadata": {
    "collapsed": false
   },
   "outputs": [
    {
     "name": "stderr",
     "output_type": "stream",
     "text": [
      "C:\\Users\\richa\\Anaconda3\\lib\\site-packages\\IPython\\core\\interactiveshell.py:2821: DtypeWarning: Columns (0,112) have mixed types. Specify dtype option on import or set low_memory=False.\n",
      "  if self.run_code(code, result):\n"
     ]
    },
    {
     "data": {
      "text/html": [
       "<div>\n",
       "<table border=\"1\" class=\"dataframe\">\n",
       "  <thead>\n",
       "    <tr style=\"text-align: right;\">\n",
       "      <th></th>\n",
       "      <th>loan_amnt</th>\n",
       "      <th>funded_amnt</th>\n",
       "      <th>funded_amnt_inv</th>\n",
       "      <th>term</th>\n",
       "      <th>int_rate</th>\n",
       "      <th>installment</th>\n",
       "      <th>grade</th>\n",
       "      <th>sub_grade</th>\n",
       "      <th>emp_title</th>\n",
       "      <th>emp_length</th>\n",
       "      <th>...</th>\n",
       "      <th>num_tl_90g_dpd_24m</th>\n",
       "      <th>num_tl_op_past_12m</th>\n",
       "      <th>pct_tl_nvr_dlq</th>\n",
       "      <th>percent_bc_gt_75</th>\n",
       "      <th>pub_rec_bankruptcies</th>\n",
       "      <th>tax_liens</th>\n",
       "      <th>tot_hi_cred_lim</th>\n",
       "      <th>total_bal_ex_mort</th>\n",
       "      <th>total_bc_limit</th>\n",
       "      <th>total_il_high_credit_limit</th>\n",
       "    </tr>\n",
       "  </thead>\n",
       "  <tbody>\n",
       "    <tr>\n",
       "      <th>0</th>\n",
       "      <td>3600.0</td>\n",
       "      <td>3600.0</td>\n",
       "      <td>3600.0</td>\n",
       "      <td>36 months</td>\n",
       "      <td>7.49</td>\n",
       "      <td>111.97</td>\n",
       "      <td>A</td>\n",
       "      <td>A4</td>\n",
       "      <td>Code/Compliance Inspector</td>\n",
       "      <td>10+ years</td>\n",
       "      <td>...</td>\n",
       "      <td>0.0</td>\n",
       "      <td>6.0</td>\n",
       "      <td>100.0</td>\n",
       "      <td>0.0</td>\n",
       "      <td>1.0</td>\n",
       "      <td>0.0</td>\n",
       "      <td>93599.0</td>\n",
       "      <td>36506.0</td>\n",
       "      <td>9000.0</td>\n",
       "      <td>55699.0</td>\n",
       "    </tr>\n",
       "    <tr>\n",
       "      <th>1</th>\n",
       "      <td>15000.0</td>\n",
       "      <td>15000.0</td>\n",
       "      <td>15000.0</td>\n",
       "      <td>60 months</td>\n",
       "      <td>14.99</td>\n",
       "      <td>356.78</td>\n",
       "      <td>C</td>\n",
       "      <td>C4</td>\n",
       "      <td>Senior Superintendent</td>\n",
       "      <td>10+ years</td>\n",
       "      <td>...</td>\n",
       "      <td>0.0</td>\n",
       "      <td>0.0</td>\n",
       "      <td>100.0</td>\n",
       "      <td>66.7</td>\n",
       "      <td>0.0</td>\n",
       "      <td>0.0</td>\n",
       "      <td>148572.0</td>\n",
       "      <td>69364.0</td>\n",
       "      <td>60300.0</td>\n",
       "      <td>30224.0</td>\n",
       "    </tr>\n",
       "    <tr>\n",
       "      <th>2</th>\n",
       "      <td>8400.0</td>\n",
       "      <td>8400.0</td>\n",
       "      <td>8400.0</td>\n",
       "      <td>36 months</td>\n",
       "      <td>11.39</td>\n",
       "      <td>276.56</td>\n",
       "      <td>B</td>\n",
       "      <td>B3</td>\n",
       "      <td>IT Tech</td>\n",
       "      <td>8 years</td>\n",
       "      <td>...</td>\n",
       "      <td>0.0</td>\n",
       "      <td>5.0</td>\n",
       "      <td>100.0</td>\n",
       "      <td>14.3</td>\n",
       "      <td>0.0</td>\n",
       "      <td>0.0</td>\n",
       "      <td>205671.0</td>\n",
       "      <td>51591.0</td>\n",
       "      <td>36100.0</td>\n",
       "      <td>36876.0</td>\n",
       "    </tr>\n",
       "    <tr>\n",
       "      <th>3</th>\n",
       "      <td>4000.0</td>\n",
       "      <td>4000.0</td>\n",
       "      <td>4000.0</td>\n",
       "      <td>36 months</td>\n",
       "      <td>10.49</td>\n",
       "      <td>130.00</td>\n",
       "      <td>B</td>\n",
       "      <td>B2</td>\n",
       "      <td>Dental hygienist</td>\n",
       "      <td>2 years</td>\n",
       "      <td>...</td>\n",
       "      <td>0.0</td>\n",
       "      <td>1.0</td>\n",
       "      <td>87.5</td>\n",
       "      <td>100.0</td>\n",
       "      <td>0.0</td>\n",
       "      <td>0.0</td>\n",
       "      <td>152852.0</td>\n",
       "      <td>136208.0</td>\n",
       "      <td>2500.0</td>\n",
       "      <td>139652.0</td>\n",
       "    </tr>\n",
       "    <tr>\n",
       "      <th>4</th>\n",
       "      <td>6000.0</td>\n",
       "      <td>6000.0</td>\n",
       "      <td>6000.0</td>\n",
       "      <td>36 months</td>\n",
       "      <td>7.24</td>\n",
       "      <td>185.93</td>\n",
       "      <td>A</td>\n",
       "      <td>A3</td>\n",
       "      <td>Program Manager</td>\n",
       "      <td>3 years</td>\n",
       "      <td>...</td>\n",
       "      <td>0.0</td>\n",
       "      <td>3.0</td>\n",
       "      <td>59.1</td>\n",
       "      <td>20.0</td>\n",
       "      <td>0.0</td>\n",
       "      <td>0.0</td>\n",
       "      <td>72865.0</td>\n",
       "      <td>60622.0</td>\n",
       "      <td>23200.0</td>\n",
       "      <td>49665.0</td>\n",
       "    </tr>\n",
       "  </tbody>\n",
       "</table>\n",
       "<p>5 rows × 96 columns</p>\n",
       "</div>"
      ],
      "text/plain": [
       "   loan_amnt  funded_amnt  funded_amnt_inv        term  int_rate  installment  \\\n",
       "0     3600.0       3600.0           3600.0   36 months      7.49       111.97   \n",
       "1    15000.0      15000.0          15000.0   60 months     14.99       356.78   \n",
       "2     8400.0       8400.0           8400.0   36 months     11.39       276.56   \n",
       "3     4000.0       4000.0           4000.0   36 months     10.49       130.00   \n",
       "4     6000.0       6000.0           6000.0   36 months      7.24       185.93   \n",
       "\n",
       "  grade sub_grade                  emp_title emp_length  \\\n",
       "0     A        A4  Code/Compliance Inspector  10+ years   \n",
       "1     C        C4      Senior Superintendent  10+ years   \n",
       "2     B        B3                    IT Tech    8 years   \n",
       "3     B        B2           Dental hygienist    2 years   \n",
       "4     A        A3            Program Manager    3 years   \n",
       "\n",
       "             ...             num_tl_90g_dpd_24m  num_tl_op_past_12m  \\\n",
       "0            ...                            0.0                 6.0   \n",
       "1            ...                            0.0                 0.0   \n",
       "2            ...                            0.0                 5.0   \n",
       "3            ...                            0.0                 1.0   \n",
       "4            ...                            0.0                 3.0   \n",
       "\n",
       "  pct_tl_nvr_dlq percent_bc_gt_75 pub_rec_bankruptcies tax_liens  \\\n",
       "0          100.0              0.0                  1.0       0.0   \n",
       "1          100.0             66.7                  0.0       0.0   \n",
       "2          100.0             14.3                  0.0       0.0   \n",
       "3           87.5            100.0                  0.0       0.0   \n",
       "4           59.1             20.0                  0.0       0.0   \n",
       "\n",
       "  tot_hi_cred_lim total_bal_ex_mort total_bc_limit total_il_high_credit_limit  \n",
       "0         93599.0           36506.0         9000.0                    55699.0  \n",
       "1        148572.0           69364.0        60300.0                    30224.0  \n",
       "2        205671.0           51591.0        36100.0                    36876.0  \n",
       "3        152852.0          136208.0         2500.0                   139652.0  \n",
       "4         72865.0           60622.0        23200.0                    49665.0  \n",
       "\n",
       "[5 rows x 96 columns]"
      ]
     },
     "execution_count": 2,
     "metadata": {},
     "output_type": "execute_result"
    }
   ],
   "source": [
    "q117 = pd.DataFrame.from_csv('data/LoanStats_2017Q1.csv', index_col=None, header=1)\n",
    "\n",
    "# Drop columns where more than 90% of entries are NaN\n",
    "q117 = q117.dropna(axis=1, thresh=96781*.9)\n",
    "\n",
    "# Convert int_rate column from strings to floats\n",
    "q117.int_rate = q117.int_rate.str.strip('%')\n",
    "q117.int_rate = q117.int_rate.astype(float)\n",
    "\n",
    "# Drop all rows where int_rate is NaN\n",
    "q117 = q117.dropna(axis=0, how='any')\n",
    "\n",
    "# Convert revol_util column from strings to floats\n",
    "q117.revol_util = q117.revol_util.str.strip('%')\n",
    "q117.revol_util = q117.revol_util.astype(float)\n",
    "\n",
    "q117.head()"
   ]
  },
  {
   "cell_type": "code",
   "execution_count": 3,
   "metadata": {
    "collapsed": false
   },
   "outputs": [
    {
     "data": {
      "text/html": [
       "<div>\n",
       "<table border=\"1\" class=\"dataframe\">\n",
       "  <thead>\n",
       "    <tr style=\"text-align: right;\">\n",
       "      <th></th>\n",
       "      <th>loan_amnt</th>\n",
       "      <th>funded_amnt</th>\n",
       "      <th>funded_amnt_inv</th>\n",
       "      <th>term</th>\n",
       "      <th>int_rate</th>\n",
       "      <th>installment</th>\n",
       "      <th>grade</th>\n",
       "      <th>sub_grade</th>\n",
       "      <th>emp_title</th>\n",
       "      <th>emp_length</th>\n",
       "    </tr>\n",
       "  </thead>\n",
       "  <tbody>\n",
       "    <tr>\n",
       "      <th>0</th>\n",
       "      <td>3600.0</td>\n",
       "      <td>3600.0</td>\n",
       "      <td>3600.0</td>\n",
       "      <td>36 months</td>\n",
       "      <td>7.49</td>\n",
       "      <td>111.97</td>\n",
       "      <td>A</td>\n",
       "      <td>A4</td>\n",
       "      <td>Code/Compliance Inspector</td>\n",
       "      <td>10+ years</td>\n",
       "    </tr>\n",
       "    <tr>\n",
       "      <th>1</th>\n",
       "      <td>15000.0</td>\n",
       "      <td>15000.0</td>\n",
       "      <td>15000.0</td>\n",
       "      <td>60 months</td>\n",
       "      <td>14.99</td>\n",
       "      <td>356.78</td>\n",
       "      <td>C</td>\n",
       "      <td>C4</td>\n",
       "      <td>Senior Superintendent</td>\n",
       "      <td>10+ years</td>\n",
       "    </tr>\n",
       "    <tr>\n",
       "      <th>2</th>\n",
       "      <td>8400.0</td>\n",
       "      <td>8400.0</td>\n",
       "      <td>8400.0</td>\n",
       "      <td>36 months</td>\n",
       "      <td>11.39</td>\n",
       "      <td>276.56</td>\n",
       "      <td>B</td>\n",
       "      <td>B3</td>\n",
       "      <td>IT Tech</td>\n",
       "      <td>8 years</td>\n",
       "    </tr>\n",
       "    <tr>\n",
       "      <th>3</th>\n",
       "      <td>4000.0</td>\n",
       "      <td>4000.0</td>\n",
       "      <td>4000.0</td>\n",
       "      <td>36 months</td>\n",
       "      <td>10.49</td>\n",
       "      <td>130.00</td>\n",
       "      <td>B</td>\n",
       "      <td>B2</td>\n",
       "      <td>Dental hygienist</td>\n",
       "      <td>2 years</td>\n",
       "    </tr>\n",
       "    <tr>\n",
       "      <th>4</th>\n",
       "      <td>6000.0</td>\n",
       "      <td>6000.0</td>\n",
       "      <td>6000.0</td>\n",
       "      <td>36 months</td>\n",
       "      <td>7.24</td>\n",
       "      <td>185.93</td>\n",
       "      <td>A</td>\n",
       "      <td>A3</td>\n",
       "      <td>Program Manager</td>\n",
       "      <td>3 years</td>\n",
       "    </tr>\n",
       "  </tbody>\n",
       "</table>\n",
       "</div>"
      ],
      "text/plain": [
       "   loan_amnt  funded_amnt  funded_amnt_inv        term  int_rate  installment  \\\n",
       "0     3600.0       3600.0           3600.0   36 months      7.49       111.97   \n",
       "1    15000.0      15000.0          15000.0   60 months     14.99       356.78   \n",
       "2     8400.0       8400.0           8400.0   36 months     11.39       276.56   \n",
       "3     4000.0       4000.0           4000.0   36 months     10.49       130.00   \n",
       "4     6000.0       6000.0           6000.0   36 months      7.24       185.93   \n",
       "\n",
       "  grade sub_grade                  emp_title emp_length  \n",
       "0     A        A4  Code/Compliance Inspector  10+ years  \n",
       "1     C        C4      Senior Superintendent  10+ years  \n",
       "2     B        B3                    IT Tech    8 years  \n",
       "3     B        B2           Dental hygienist    2 years  \n",
       "4     A        A3            Program Manager    3 years  "
      ]
     },
     "execution_count": 3,
     "metadata": {},
     "output_type": "execute_result"
    }
   ],
   "source": [
    "q117.iloc[:, :10].head()"
   ]
  },
  {
   "cell_type": "code",
   "execution_count": 4,
   "metadata": {
    "collapsed": false
   },
   "outputs": [
    {
     "data": {
      "text/html": [
       "<div>\n",
       "<table border=\"1\" class=\"dataframe\">\n",
       "  <thead>\n",
       "    <tr style=\"text-align: right;\">\n",
       "      <th></th>\n",
       "      <th>home_ownership</th>\n",
       "      <th>annual_inc</th>\n",
       "      <th>verification_status</th>\n",
       "      <th>issue_d</th>\n",
       "      <th>loan_status</th>\n",
       "      <th>pymnt_plan</th>\n",
       "      <th>purpose</th>\n",
       "      <th>title</th>\n",
       "      <th>zip_code</th>\n",
       "      <th>addr_state</th>\n",
       "    </tr>\n",
       "  </thead>\n",
       "  <tbody>\n",
       "    <tr>\n",
       "      <th>0</th>\n",
       "      <td>MORTGAGE</td>\n",
       "      <td>120000.0</td>\n",
       "      <td>Not Verified</td>\n",
       "      <td>Mar-2017</td>\n",
       "      <td>Issued</td>\n",
       "      <td>n</td>\n",
       "      <td>other</td>\n",
       "      <td>Other</td>\n",
       "      <td>467xx</td>\n",
       "      <td>IN</td>\n",
       "    </tr>\n",
       "    <tr>\n",
       "      <th>1</th>\n",
       "      <td>MORTGAGE</td>\n",
       "      <td>125000.0</td>\n",
       "      <td>Not Verified</td>\n",
       "      <td>Mar-2017</td>\n",
       "      <td>Issued</td>\n",
       "      <td>n</td>\n",
       "      <td>other</td>\n",
       "      <td>Other</td>\n",
       "      <td>064xx</td>\n",
       "      <td>CT</td>\n",
       "    </tr>\n",
       "    <tr>\n",
       "      <th>2</th>\n",
       "      <td>MORTGAGE</td>\n",
       "      <td>50000.0</td>\n",
       "      <td>Source Verified</td>\n",
       "      <td>Mar-2017</td>\n",
       "      <td>Issued</td>\n",
       "      <td>n</td>\n",
       "      <td>other</td>\n",
       "      <td>Other</td>\n",
       "      <td>454xx</td>\n",
       "      <td>OH</td>\n",
       "    </tr>\n",
       "    <tr>\n",
       "      <th>3</th>\n",
       "      <td>RENT</td>\n",
       "      <td>50000.0</td>\n",
       "      <td>Source Verified</td>\n",
       "      <td>Mar-2017</td>\n",
       "      <td>Issued</td>\n",
       "      <td>n</td>\n",
       "      <td>major_purchase</td>\n",
       "      <td>Major purchase</td>\n",
       "      <td>768xx</td>\n",
       "      <td>TX</td>\n",
       "    </tr>\n",
       "    <tr>\n",
       "      <th>4</th>\n",
       "      <td>RENT</td>\n",
       "      <td>125000.0</td>\n",
       "      <td>Source Verified</td>\n",
       "      <td>Mar-2017</td>\n",
       "      <td>Current</td>\n",
       "      <td>n</td>\n",
       "      <td>credit_card</td>\n",
       "      <td>Credit card refinancing</td>\n",
       "      <td>981xx</td>\n",
       "      <td>WA</td>\n",
       "    </tr>\n",
       "  </tbody>\n",
       "</table>\n",
       "</div>"
      ],
      "text/plain": [
       "  home_ownership  annual_inc verification_status   issue_d loan_status  \\\n",
       "0       MORTGAGE    120000.0        Not Verified  Mar-2017      Issued   \n",
       "1       MORTGAGE    125000.0        Not Verified  Mar-2017      Issued   \n",
       "2       MORTGAGE     50000.0     Source Verified  Mar-2017      Issued   \n",
       "3           RENT     50000.0     Source Verified  Mar-2017      Issued   \n",
       "4           RENT    125000.0     Source Verified  Mar-2017     Current   \n",
       "\n",
       "  pymnt_plan         purpose                    title zip_code addr_state  \n",
       "0          n           other                    Other    467xx         IN  \n",
       "1          n           other                    Other    064xx         CT  \n",
       "2          n           other                    Other    454xx         OH  \n",
       "3          n  major_purchase           Major purchase    768xx         TX  \n",
       "4          n     credit_card  Credit card refinancing    981xx         WA  "
      ]
     },
     "execution_count": 4,
     "metadata": {},
     "output_type": "execute_result"
    }
   ],
   "source": [
    "q117.iloc[:, 10:20].head()"
   ]
  },
  {
   "cell_type": "code",
   "execution_count": 5,
   "metadata": {
    "collapsed": false
   },
   "outputs": [
    {
     "data": {
      "text/html": [
       "<div>\n",
       "<table border=\"1\" class=\"dataframe\">\n",
       "  <thead>\n",
       "    <tr style=\"text-align: right;\">\n",
       "      <th></th>\n",
       "      <th>dti</th>\n",
       "      <th>delinq_2yrs</th>\n",
       "      <th>earliest_cr_line</th>\n",
       "      <th>inq_last_6mths</th>\n",
       "      <th>open_acc</th>\n",
       "      <th>pub_rec</th>\n",
       "      <th>revol_bal</th>\n",
       "      <th>revol_util</th>\n",
       "      <th>total_acc</th>\n",
       "      <th>initial_list_status</th>\n",
       "    </tr>\n",
       "  </thead>\n",
       "  <tbody>\n",
       "    <tr>\n",
       "      <th>0</th>\n",
       "      <td>18.90</td>\n",
       "      <td>0.0</td>\n",
       "      <td>Aug-1992</td>\n",
       "      <td>1.0</td>\n",
       "      <td>18.0</td>\n",
       "      <td>1.0</td>\n",
       "      <td>5658.0</td>\n",
       "      <td>14.9</td>\n",
       "      <td>33.0</td>\n",
       "      <td>w</td>\n",
       "    </tr>\n",
       "    <tr>\n",
       "      <th>1</th>\n",
       "      <td>17.25</td>\n",
       "      <td>0.0</td>\n",
       "      <td>Sep-1989</td>\n",
       "      <td>0.0</td>\n",
       "      <td>11.0</td>\n",
       "      <td>0.0</td>\n",
       "      <td>53167.0</td>\n",
       "      <td>75.3</td>\n",
       "      <td>18.0</td>\n",
       "      <td>w</td>\n",
       "    </tr>\n",
       "    <tr>\n",
       "      <th>2</th>\n",
       "      <td>15.63</td>\n",
       "      <td>0.0</td>\n",
       "      <td>Apr-2005</td>\n",
       "      <td>0.0</td>\n",
       "      <td>14.0</td>\n",
       "      <td>0.0</td>\n",
       "      <td>12831.0</td>\n",
       "      <td>30.3</td>\n",
       "      <td>30.0</td>\n",
       "      <td>w</td>\n",
       "    </tr>\n",
       "    <tr>\n",
       "      <th>3</th>\n",
       "      <td>33.61</td>\n",
       "      <td>1.0</td>\n",
       "      <td>Apr-2003</td>\n",
       "      <td>0.0</td>\n",
       "      <td>10.0</td>\n",
       "      <td>1.0</td>\n",
       "      <td>4388.0</td>\n",
       "      <td>33.2</td>\n",
       "      <td>33.0</td>\n",
       "      <td>w</td>\n",
       "    </tr>\n",
       "    <tr>\n",
       "      <th>4</th>\n",
       "      <td>9.25</td>\n",
       "      <td>0.0</td>\n",
       "      <td>Jul-2004</td>\n",
       "      <td>1.0</td>\n",
       "      <td>16.0</td>\n",
       "      <td>0.0</td>\n",
       "      <td>9571.0</td>\n",
       "      <td>41.3</td>\n",
       "      <td>27.0</td>\n",
       "      <td>w</td>\n",
       "    </tr>\n",
       "  </tbody>\n",
       "</table>\n",
       "</div>"
      ],
      "text/plain": [
       "     dti  delinq_2yrs earliest_cr_line  inq_last_6mths  open_acc  pub_rec  \\\n",
       "0  18.90          0.0         Aug-1992             1.0      18.0      1.0   \n",
       "1  17.25          0.0         Sep-1989             0.0      11.0      0.0   \n",
       "2  15.63          0.0         Apr-2005             0.0      14.0      0.0   \n",
       "3  33.61          1.0         Apr-2003             0.0      10.0      1.0   \n",
       "4   9.25          0.0         Jul-2004             1.0      16.0      0.0   \n",
       "\n",
       "   revol_bal  revol_util  total_acc initial_list_status  \n",
       "0     5658.0        14.9       33.0                   w  \n",
       "1    53167.0        75.3       18.0                   w  \n",
       "2    12831.0        30.3       30.0                   w  \n",
       "3     4388.0        33.2       33.0                   w  \n",
       "4     9571.0        41.3       27.0                   w  "
      ]
     },
     "execution_count": 5,
     "metadata": {},
     "output_type": "execute_result"
    }
   ],
   "source": [
    "q117.iloc[:, 20:30].head()"
   ]
  },
  {
   "cell_type": "code",
   "execution_count": 6,
   "metadata": {
    "collapsed": false
   },
   "outputs": [
    {
     "data": {
      "text/html": [
       "<div>\n",
       "<table border=\"1\" class=\"dataframe\">\n",
       "  <thead>\n",
       "    <tr style=\"text-align: right;\">\n",
       "      <th></th>\n",
       "      <th>out_prncp</th>\n",
       "      <th>out_prncp_inv</th>\n",
       "      <th>total_pymnt</th>\n",
       "      <th>total_pymnt_inv</th>\n",
       "      <th>total_rec_prncp</th>\n",
       "      <th>total_rec_int</th>\n",
       "      <th>total_rec_late_fee</th>\n",
       "      <th>recoveries</th>\n",
       "      <th>collection_recovery_fee</th>\n",
       "      <th>last_pymnt_amnt</th>\n",
       "    </tr>\n",
       "  </thead>\n",
       "  <tbody>\n",
       "    <tr>\n",
       "      <th>0</th>\n",
       "      <td>3600.00</td>\n",
       "      <td>3600.00</td>\n",
       "      <td>0.00</td>\n",
       "      <td>0.00</td>\n",
       "      <td>0.00</td>\n",
       "      <td>0.00</td>\n",
       "      <td>0.0</td>\n",
       "      <td>0.0</td>\n",
       "      <td>0.0</td>\n",
       "      <td>0.00</td>\n",
       "    </tr>\n",
       "    <tr>\n",
       "      <th>1</th>\n",
       "      <td>15000.00</td>\n",
       "      <td>15000.00</td>\n",
       "      <td>0.00</td>\n",
       "      <td>0.00</td>\n",
       "      <td>0.00</td>\n",
       "      <td>0.00</td>\n",
       "      <td>0.0</td>\n",
       "      <td>0.0</td>\n",
       "      <td>0.0</td>\n",
       "      <td>0.00</td>\n",
       "    </tr>\n",
       "    <tr>\n",
       "      <th>2</th>\n",
       "      <td>8400.00</td>\n",
       "      <td>8400.00</td>\n",
       "      <td>0.00</td>\n",
       "      <td>0.00</td>\n",
       "      <td>0.00</td>\n",
       "      <td>0.00</td>\n",
       "      <td>0.0</td>\n",
       "      <td>0.0</td>\n",
       "      <td>0.0</td>\n",
       "      <td>0.00</td>\n",
       "    </tr>\n",
       "    <tr>\n",
       "      <th>3</th>\n",
       "      <td>4000.00</td>\n",
       "      <td>4000.00</td>\n",
       "      <td>0.00</td>\n",
       "      <td>0.00</td>\n",
       "      <td>0.00</td>\n",
       "      <td>0.00</td>\n",
       "      <td>0.0</td>\n",
       "      <td>0.0</td>\n",
       "      <td>0.0</td>\n",
       "      <td>0.00</td>\n",
       "    </tr>\n",
       "    <tr>\n",
       "      <th>4</th>\n",
       "      <td>5850.27</td>\n",
       "      <td>5850.27</td>\n",
       "      <td>164.21</td>\n",
       "      <td>164.21</td>\n",
       "      <td>149.73</td>\n",
       "      <td>14.48</td>\n",
       "      <td>0.0</td>\n",
       "      <td>0.0</td>\n",
       "      <td>0.0</td>\n",
       "      <td>169.04</td>\n",
       "    </tr>\n",
       "  </tbody>\n",
       "</table>\n",
       "</div>"
      ],
      "text/plain": [
       "   out_prncp  out_prncp_inv  total_pymnt  total_pymnt_inv  total_rec_prncp  \\\n",
       "0    3600.00        3600.00         0.00             0.00             0.00   \n",
       "1   15000.00       15000.00         0.00             0.00             0.00   \n",
       "2    8400.00        8400.00         0.00             0.00             0.00   \n",
       "3    4000.00        4000.00         0.00             0.00             0.00   \n",
       "4    5850.27        5850.27       164.21           164.21           149.73   \n",
       "\n",
       "   total_rec_int  total_rec_late_fee  recoveries  collection_recovery_fee  \\\n",
       "0           0.00                 0.0         0.0                      0.0   \n",
       "1           0.00                 0.0         0.0                      0.0   \n",
       "2           0.00                 0.0         0.0                      0.0   \n",
       "3           0.00                 0.0         0.0                      0.0   \n",
       "4          14.48                 0.0         0.0                      0.0   \n",
       "\n",
       "   last_pymnt_amnt  \n",
       "0             0.00  \n",
       "1             0.00  \n",
       "2             0.00  \n",
       "3             0.00  \n",
       "4           169.04  "
      ]
     },
     "execution_count": 6,
     "metadata": {},
     "output_type": "execute_result"
    }
   ],
   "source": [
    "q117.iloc[:, 30:40].head()"
   ]
  },
  {
   "cell_type": "code",
   "execution_count": 7,
   "metadata": {
    "collapsed": false
   },
   "outputs": [
    {
     "data": {
      "text/html": [
       "<div>\n",
       "<table border=\"1\" class=\"dataframe\">\n",
       "  <thead>\n",
       "    <tr style=\"text-align: right;\">\n",
       "      <th></th>\n",
       "      <th>next_pymnt_d</th>\n",
       "      <th>last_credit_pull_d</th>\n",
       "      <th>collections_12_mths_ex_med</th>\n",
       "      <th>policy_code</th>\n",
       "      <th>application_type</th>\n",
       "      <th>acc_now_delinq</th>\n",
       "      <th>tot_coll_amt</th>\n",
       "      <th>tot_cur_bal</th>\n",
       "      <th>open_acc_6m</th>\n",
       "      <th>open_il_6m</th>\n",
       "    </tr>\n",
       "  </thead>\n",
       "  <tbody>\n",
       "    <tr>\n",
       "      <th>0</th>\n",
       "      <td>Apr-2017</td>\n",
       "      <td>Apr-2017</td>\n",
       "      <td>0.0</td>\n",
       "      <td>1.0</td>\n",
       "      <td>INDIVIDUAL</td>\n",
       "      <td>0.0</td>\n",
       "      <td>0.0</td>\n",
       "      <td>36506.0</td>\n",
       "      <td>2.0</td>\n",
       "      <td>6.0</td>\n",
       "    </tr>\n",
       "    <tr>\n",
       "      <th>1</th>\n",
       "      <td>Apr-2017</td>\n",
       "      <td>Apr-2017</td>\n",
       "      <td>0.0</td>\n",
       "      <td>1.0</td>\n",
       "      <td>INDIVIDUAL</td>\n",
       "      <td>0.0</td>\n",
       "      <td>0.0</td>\n",
       "      <td>90423.0</td>\n",
       "      <td>0.0</td>\n",
       "      <td>2.0</td>\n",
       "    </tr>\n",
       "    <tr>\n",
       "      <th>2</th>\n",
       "      <td>Apr-2017</td>\n",
       "      <td>Apr-2017</td>\n",
       "      <td>0.0</td>\n",
       "      <td>1.0</td>\n",
       "      <td>INDIVIDUAL</td>\n",
       "      <td>0.0</td>\n",
       "      <td>271.0</td>\n",
       "      <td>161061.0</td>\n",
       "      <td>3.0</td>\n",
       "      <td>2.0</td>\n",
       "    </tr>\n",
       "    <tr>\n",
       "      <th>3</th>\n",
       "      <td>Apr-2017</td>\n",
       "      <td>Apr-2017</td>\n",
       "      <td>0.0</td>\n",
       "      <td>1.0</td>\n",
       "      <td>INDIVIDUAL</td>\n",
       "      <td>0.0</td>\n",
       "      <td>0.0</td>\n",
       "      <td>136208.0</td>\n",
       "      <td>0.0</td>\n",
       "      <td>4.0</td>\n",
       "    </tr>\n",
       "    <tr>\n",
       "      <th>4</th>\n",
       "      <td>May-2017</td>\n",
       "      <td>Apr-2017</td>\n",
       "      <td>0.0</td>\n",
       "      <td>1.0</td>\n",
       "      <td>INDIVIDUAL</td>\n",
       "      <td>0.0</td>\n",
       "      <td>0.0</td>\n",
       "      <td>60622.0</td>\n",
       "      <td>1.0</td>\n",
       "      <td>11.0</td>\n",
       "    </tr>\n",
       "  </tbody>\n",
       "</table>\n",
       "</div>"
      ],
      "text/plain": [
       "  next_pymnt_d last_credit_pull_d  collections_12_mths_ex_med  policy_code  \\\n",
       "0     Apr-2017           Apr-2017                         0.0          1.0   \n",
       "1     Apr-2017           Apr-2017                         0.0          1.0   \n",
       "2     Apr-2017           Apr-2017                         0.0          1.0   \n",
       "3     Apr-2017           Apr-2017                         0.0          1.0   \n",
       "4     May-2017           Apr-2017                         0.0          1.0   \n",
       "\n",
       "  application_type  acc_now_delinq  tot_coll_amt  tot_cur_bal  open_acc_6m  \\\n",
       "0       INDIVIDUAL             0.0           0.0      36506.0          2.0   \n",
       "1       INDIVIDUAL             0.0           0.0      90423.0          0.0   \n",
       "2       INDIVIDUAL             0.0         271.0     161061.0          3.0   \n",
       "3       INDIVIDUAL             0.0           0.0     136208.0          0.0   \n",
       "4       INDIVIDUAL             0.0           0.0      60622.0          1.0   \n",
       "\n",
       "   open_il_6m  \n",
       "0         6.0  \n",
       "1         2.0  \n",
       "2         2.0  \n",
       "3         4.0  \n",
       "4        11.0  "
      ]
     },
     "execution_count": 7,
     "metadata": {},
     "output_type": "execute_result"
    }
   ],
   "source": [
    "q117.iloc[:, 40:50].head()"
   ]
  },
  {
   "cell_type": "code",
   "execution_count": 8,
   "metadata": {
    "collapsed": false
   },
   "outputs": [
    {
     "data": {
      "text/html": [
       "<div>\n",
       "<table border=\"1\" class=\"dataframe\">\n",
       "  <thead>\n",
       "    <tr style=\"text-align: right;\">\n",
       "      <th></th>\n",
       "      <th>open_il_12m</th>\n",
       "      <th>open_il_24m</th>\n",
       "      <th>mths_since_rcnt_il</th>\n",
       "      <th>total_bal_il</th>\n",
       "      <th>open_rv_12m</th>\n",
       "      <th>open_rv_24m</th>\n",
       "      <th>max_bal_bc</th>\n",
       "      <th>all_util</th>\n",
       "      <th>total_rev_hi_lim</th>\n",
       "      <th>inq_fi</th>\n",
       "    </tr>\n",
       "  </thead>\n",
       "  <tbody>\n",
       "    <tr>\n",
       "      <th>0</th>\n",
       "      <td>2.0</td>\n",
       "      <td>6.0</td>\n",
       "      <td>2.0</td>\n",
       "      <td>30848.0</td>\n",
       "      <td>4.0</td>\n",
       "      <td>7.0</td>\n",
       "      <td>1020.0</td>\n",
       "      <td>39.0</td>\n",
       "      <td>37900.0</td>\n",
       "      <td>3.0</td>\n",
       "    </tr>\n",
       "    <tr>\n",
       "      <th>1</th>\n",
       "      <td>0.0</td>\n",
       "      <td>1.0</td>\n",
       "      <td>22.0</td>\n",
       "      <td>16197.0</td>\n",
       "      <td>0.0</td>\n",
       "      <td>3.0</td>\n",
       "      <td>15199.0</td>\n",
       "      <td>69.0</td>\n",
       "      <td>70600.0</td>\n",
       "      <td>1.0</td>\n",
       "    </tr>\n",
       "    <tr>\n",
       "      <th>2</th>\n",
       "      <td>1.0</td>\n",
       "      <td>2.0</td>\n",
       "      <td>10.0</td>\n",
       "      <td>38760.0</td>\n",
       "      <td>4.0</td>\n",
       "      <td>8.0</td>\n",
       "      <td>5338.0</td>\n",
       "      <td>65.0</td>\n",
       "      <td>42300.0</td>\n",
       "      <td>4.0</td>\n",
       "    </tr>\n",
       "    <tr>\n",
       "      <th>3</th>\n",
       "      <td>1.0</td>\n",
       "      <td>2.0</td>\n",
       "      <td>7.0</td>\n",
       "      <td>131820.0</td>\n",
       "      <td>0.0</td>\n",
       "      <td>4.0</td>\n",
       "      <td>2461.0</td>\n",
       "      <td>56.0</td>\n",
       "      <td>13200.0</td>\n",
       "      <td>0.0</td>\n",
       "    </tr>\n",
       "    <tr>\n",
       "      <th>4</th>\n",
       "      <td>2.0</td>\n",
       "      <td>2.0</td>\n",
       "      <td>3.0</td>\n",
       "      <td>51051.0</td>\n",
       "      <td>1.0</td>\n",
       "      <td>2.0</td>\n",
       "      <td>6129.0</td>\n",
       "      <td>83.0</td>\n",
       "      <td>23200.0</td>\n",
       "      <td>1.0</td>\n",
       "    </tr>\n",
       "  </tbody>\n",
       "</table>\n",
       "</div>"
      ],
      "text/plain": [
       "   open_il_12m  open_il_24m  mths_since_rcnt_il  total_bal_il  open_rv_12m  \\\n",
       "0          2.0          6.0                 2.0       30848.0          4.0   \n",
       "1          0.0          1.0                22.0       16197.0          0.0   \n",
       "2          1.0          2.0                10.0       38760.0          4.0   \n",
       "3          1.0          2.0                 7.0      131820.0          0.0   \n",
       "4          2.0          2.0                 3.0       51051.0          1.0   \n",
       "\n",
       "   open_rv_24m  max_bal_bc  all_util  total_rev_hi_lim  inq_fi  \n",
       "0          7.0      1020.0      39.0           37900.0     3.0  \n",
       "1          3.0     15199.0      69.0           70600.0     1.0  \n",
       "2          8.0      5338.0      65.0           42300.0     4.0  \n",
       "3          4.0      2461.0      56.0           13200.0     0.0  \n",
       "4          2.0      6129.0      83.0           23200.0     1.0  "
      ]
     },
     "execution_count": 8,
     "metadata": {},
     "output_type": "execute_result"
    }
   ],
   "source": [
    "q117.iloc[:, 50:60].head()"
   ]
  },
  {
   "cell_type": "code",
   "execution_count": 9,
   "metadata": {
    "collapsed": false
   },
   "outputs": [
    {
     "data": {
      "text/html": [
       "<div>\n",
       "<table border=\"1\" class=\"dataframe\">\n",
       "  <thead>\n",
       "    <tr style=\"text-align: right;\">\n",
       "      <th></th>\n",
       "      <th>total_cu_tl</th>\n",
       "      <th>inq_last_12m</th>\n",
       "      <th>acc_open_past_24mths</th>\n",
       "      <th>avg_cur_bal</th>\n",
       "      <th>bc_open_to_buy</th>\n",
       "      <th>bc_util</th>\n",
       "      <th>chargeoff_within_12_mths</th>\n",
       "      <th>delinq_amnt</th>\n",
       "      <th>mo_sin_old_il_acct</th>\n",
       "      <th>mo_sin_old_rev_tl_op</th>\n",
       "    </tr>\n",
       "  </thead>\n",
       "  <tbody>\n",
       "    <tr>\n",
       "      <th>0</th>\n",
       "      <td>1.0</td>\n",
       "      <td>4.0</td>\n",
       "      <td>13.0</td>\n",
       "      <td>2147.0</td>\n",
       "      <td>7980.0</td>\n",
       "      <td>11.3</td>\n",
       "      <td>0.0</td>\n",
       "      <td>0.0</td>\n",
       "      <td>166.0</td>\n",
       "      <td>295.0</td>\n",
       "    </tr>\n",
       "    <tr>\n",
       "      <th>1</th>\n",
       "      <td>0.0</td>\n",
       "      <td>0.0</td>\n",
       "      <td>4.0</td>\n",
       "      <td>8220.0</td>\n",
       "      <td>13968.0</td>\n",
       "      <td>76.8</td>\n",
       "      <td>0.0</td>\n",
       "      <td>0.0</td>\n",
       "      <td>158.0</td>\n",
       "      <td>245.0</td>\n",
       "    </tr>\n",
       "    <tr>\n",
       "      <th>2</th>\n",
       "      <td>1.0</td>\n",
       "      <td>7.0</td>\n",
       "      <td>10.0</td>\n",
       "      <td>12389.0</td>\n",
       "      <td>24145.0</td>\n",
       "      <td>33.1</td>\n",
       "      <td>0.0</td>\n",
       "      <td>0.0</td>\n",
       "      <td>131.0</td>\n",
       "      <td>143.0</td>\n",
       "    </tr>\n",
       "    <tr>\n",
       "      <th>3</th>\n",
       "      <td>0.0</td>\n",
       "      <td>1.0</td>\n",
       "      <td>6.0</td>\n",
       "      <td>13621.0</td>\n",
       "      <td>39.0</td>\n",
       "      <td>98.4</td>\n",
       "      <td>0.0</td>\n",
       "      <td>0.0</td>\n",
       "      <td>148.0</td>\n",
       "      <td>163.0</td>\n",
       "    </tr>\n",
       "    <tr>\n",
       "      <th>4</th>\n",
       "      <td>1.0</td>\n",
       "      <td>1.0</td>\n",
       "      <td>4.0</td>\n",
       "      <td>3789.0</td>\n",
       "      <td>13629.0</td>\n",
       "      <td>41.3</td>\n",
       "      <td>0.0</td>\n",
       "      <td>0.0</td>\n",
       "      <td>152.0</td>\n",
       "      <td>149.0</td>\n",
       "    </tr>\n",
       "  </tbody>\n",
       "</table>\n",
       "</div>"
      ],
      "text/plain": [
       "   total_cu_tl  inq_last_12m  acc_open_past_24mths  avg_cur_bal  \\\n",
       "0          1.0           4.0                  13.0       2147.0   \n",
       "1          0.0           0.0                   4.0       8220.0   \n",
       "2          1.0           7.0                  10.0      12389.0   \n",
       "3          0.0           1.0                   6.0      13621.0   \n",
       "4          1.0           1.0                   4.0       3789.0   \n",
       "\n",
       "   bc_open_to_buy  bc_util  chargeoff_within_12_mths  delinq_amnt  \\\n",
       "0          7980.0     11.3                       0.0          0.0   \n",
       "1         13968.0     76.8                       0.0          0.0   \n",
       "2         24145.0     33.1                       0.0          0.0   \n",
       "3            39.0     98.4                       0.0          0.0   \n",
       "4         13629.0     41.3                       0.0          0.0   \n",
       "\n",
       "   mo_sin_old_il_acct  mo_sin_old_rev_tl_op  \n",
       "0               166.0                 295.0  \n",
       "1               158.0                 245.0  \n",
       "2               131.0                 143.0  \n",
       "3               148.0                 163.0  \n",
       "4               152.0                 149.0  "
      ]
     },
     "execution_count": 9,
     "metadata": {},
     "output_type": "execute_result"
    }
   ],
   "source": [
    "q117.iloc[:, 60:70].head()"
   ]
  },
  {
   "cell_type": "code",
   "execution_count": 10,
   "metadata": {
    "collapsed": false
   },
   "outputs": [
    {
     "data": {
      "text/html": [
       "<div>\n",
       "<table border=\"1\" class=\"dataframe\">\n",
       "  <thead>\n",
       "    <tr style=\"text-align: right;\">\n",
       "      <th></th>\n",
       "      <th>mo_sin_rcnt_rev_tl_op</th>\n",
       "      <th>mo_sin_rcnt_tl</th>\n",
       "      <th>mort_acc</th>\n",
       "      <th>mths_since_recent_bc</th>\n",
       "      <th>num_accts_ever_120_pd</th>\n",
       "      <th>num_actv_bc_tl</th>\n",
       "      <th>num_actv_rev_tl</th>\n",
       "      <th>num_bc_sats</th>\n",
       "      <th>num_bc_tl</th>\n",
       "      <th>num_il_tl</th>\n",
       "    </tr>\n",
       "  </thead>\n",
       "  <tbody>\n",
       "    <tr>\n",
       "      <th>0</th>\n",
       "      <td>3.0</td>\n",
       "      <td>2.0</td>\n",
       "      <td>0.0</td>\n",
       "      <td>9.0</td>\n",
       "      <td>0.0</td>\n",
       "      <td>1.0</td>\n",
       "      <td>4.0</td>\n",
       "      <td>2.0</td>\n",
       "      <td>3.0</td>\n",
       "      <td>17.0</td>\n",
       "    </tr>\n",
       "    <tr>\n",
       "      <th>1</th>\n",
       "      <td>16.0</td>\n",
       "      <td>16.0</td>\n",
       "      <td>2.0</td>\n",
       "      <td>16.0</td>\n",
       "      <td>0.0</td>\n",
       "      <td>5.0</td>\n",
       "      <td>7.0</td>\n",
       "      <td>6.0</td>\n",
       "      <td>8.0</td>\n",
       "      <td>6.0</td>\n",
       "    </tr>\n",
       "    <tr>\n",
       "      <th>2</th>\n",
       "      <td>4.0</td>\n",
       "      <td>4.0</td>\n",
       "      <td>4.0</td>\n",
       "      <td>4.0</td>\n",
       "      <td>0.0</td>\n",
       "      <td>4.0</td>\n",
       "      <td>5.0</td>\n",
       "      <td>7.0</td>\n",
       "      <td>11.0</td>\n",
       "      <td>9.0</td>\n",
       "    </tr>\n",
       "    <tr>\n",
       "      <th>3</th>\n",
       "      <td>15.0</td>\n",
       "      <td>7.0</td>\n",
       "      <td>6.0</td>\n",
       "      <td>120.0</td>\n",
       "      <td>1.0</td>\n",
       "      <td>1.0</td>\n",
       "      <td>4.0</td>\n",
       "      <td>1.0</td>\n",
       "      <td>3.0</td>\n",
       "      <td>15.0</td>\n",
       "    </tr>\n",
       "    <tr>\n",
       "      <th>4</th>\n",
       "      <td>7.0</td>\n",
       "      <td>3.0</td>\n",
       "      <td>0.0</td>\n",
       "      <td>7.0</td>\n",
       "      <td>9.0</td>\n",
       "      <td>3.0</td>\n",
       "      <td>3.0</td>\n",
       "      <td>5.0</td>\n",
       "      <td>5.0</td>\n",
       "      <td>22.0</td>\n",
       "    </tr>\n",
       "  </tbody>\n",
       "</table>\n",
       "</div>"
      ],
      "text/plain": [
       "   mo_sin_rcnt_rev_tl_op  mo_sin_rcnt_tl  mort_acc  mths_since_recent_bc  \\\n",
       "0                    3.0             2.0       0.0                   9.0   \n",
       "1                   16.0            16.0       2.0                  16.0   \n",
       "2                    4.0             4.0       4.0                   4.0   \n",
       "3                   15.0             7.0       6.0                 120.0   \n",
       "4                    7.0             3.0       0.0                   7.0   \n",
       "\n",
       "   num_accts_ever_120_pd  num_actv_bc_tl  num_actv_rev_tl  num_bc_sats  \\\n",
       "0                    0.0             1.0              4.0          2.0   \n",
       "1                    0.0             5.0              7.0          6.0   \n",
       "2                    0.0             4.0              5.0          7.0   \n",
       "3                    1.0             1.0              4.0          1.0   \n",
       "4                    9.0             3.0              3.0          5.0   \n",
       "\n",
       "   num_bc_tl  num_il_tl  \n",
       "0        3.0       17.0  \n",
       "1        8.0        6.0  \n",
       "2       11.0        9.0  \n",
       "3        3.0       15.0  \n",
       "4        5.0       22.0  "
      ]
     },
     "execution_count": 10,
     "metadata": {},
     "output_type": "execute_result"
    }
   ],
   "source": [
    "q117.iloc[:, 70:80].head()"
   ]
  },
  {
   "cell_type": "code",
   "execution_count": 11,
   "metadata": {
    "collapsed": false
   },
   "outputs": [
    {
     "data": {
      "text/html": [
       "<div>\n",
       "<table border=\"1\" class=\"dataframe\">\n",
       "  <thead>\n",
       "    <tr style=\"text-align: right;\">\n",
       "      <th></th>\n",
       "      <th>num_op_rev_tl</th>\n",
       "      <th>num_rev_accts</th>\n",
       "      <th>num_rev_tl_bal_gt_0</th>\n",
       "      <th>num_sats</th>\n",
       "      <th>num_tl_120dpd_2m</th>\n",
       "      <th>num_tl_30dpd</th>\n",
       "      <th>num_tl_90g_dpd_24m</th>\n",
       "      <th>num_tl_op_past_12m</th>\n",
       "      <th>pct_tl_nvr_dlq</th>\n",
       "      <th>percent_bc_gt_75</th>\n",
       "    </tr>\n",
       "  </thead>\n",
       "  <tbody>\n",
       "    <tr>\n",
       "      <th>0</th>\n",
       "      <td>12.0</td>\n",
       "      <td>16.0</td>\n",
       "      <td>4.0</td>\n",
       "      <td>18.0</td>\n",
       "      <td>0.0</td>\n",
       "      <td>0.0</td>\n",
       "      <td>0.0</td>\n",
       "      <td>6.0</td>\n",
       "      <td>100.0</td>\n",
       "      <td>0.0</td>\n",
       "    </tr>\n",
       "    <tr>\n",
       "      <th>1</th>\n",
       "      <td>8.0</td>\n",
       "      <td>10.0</td>\n",
       "      <td>7.0</td>\n",
       "      <td>11.0</td>\n",
       "      <td>0.0</td>\n",
       "      <td>0.0</td>\n",
       "      <td>0.0</td>\n",
       "      <td>0.0</td>\n",
       "      <td>100.0</td>\n",
       "      <td>66.7</td>\n",
       "    </tr>\n",
       "    <tr>\n",
       "      <th>2</th>\n",
       "      <td>11.0</td>\n",
       "      <td>16.0</td>\n",
       "      <td>5.0</td>\n",
       "      <td>14.0</td>\n",
       "      <td>0.0</td>\n",
       "      <td>0.0</td>\n",
       "      <td>0.0</td>\n",
       "      <td>5.0</td>\n",
       "      <td>100.0</td>\n",
       "      <td>14.3</td>\n",
       "    </tr>\n",
       "    <tr>\n",
       "      <th>3</th>\n",
       "      <td>6.0</td>\n",
       "      <td>12.0</td>\n",
       "      <td>4.0</td>\n",
       "      <td>10.0</td>\n",
       "      <td>0.0</td>\n",
       "      <td>0.0</td>\n",
       "      <td>0.0</td>\n",
       "      <td>1.0</td>\n",
       "      <td>87.5</td>\n",
       "      <td>100.0</td>\n",
       "    </tr>\n",
       "    <tr>\n",
       "      <th>4</th>\n",
       "      <td>5.0</td>\n",
       "      <td>5.0</td>\n",
       "      <td>3.0</td>\n",
       "      <td>16.0</td>\n",
       "      <td>0.0</td>\n",
       "      <td>0.0</td>\n",
       "      <td>0.0</td>\n",
       "      <td>3.0</td>\n",
       "      <td>59.1</td>\n",
       "      <td>20.0</td>\n",
       "    </tr>\n",
       "  </tbody>\n",
       "</table>\n",
       "</div>"
      ],
      "text/plain": [
       "   num_op_rev_tl  num_rev_accts  num_rev_tl_bal_gt_0  num_sats  \\\n",
       "0           12.0           16.0                  4.0      18.0   \n",
       "1            8.0           10.0                  7.0      11.0   \n",
       "2           11.0           16.0                  5.0      14.0   \n",
       "3            6.0           12.0                  4.0      10.0   \n",
       "4            5.0            5.0                  3.0      16.0   \n",
       "\n",
       "   num_tl_120dpd_2m  num_tl_30dpd  num_tl_90g_dpd_24m  num_tl_op_past_12m  \\\n",
       "0               0.0           0.0                 0.0                 6.0   \n",
       "1               0.0           0.0                 0.0                 0.0   \n",
       "2               0.0           0.0                 0.0                 5.0   \n",
       "3               0.0           0.0                 0.0                 1.0   \n",
       "4               0.0           0.0                 0.0                 3.0   \n",
       "\n",
       "   pct_tl_nvr_dlq  percent_bc_gt_75  \n",
       "0           100.0               0.0  \n",
       "1           100.0              66.7  \n",
       "2           100.0              14.3  \n",
       "3            87.5             100.0  \n",
       "4            59.1              20.0  "
      ]
     },
     "execution_count": 11,
     "metadata": {},
     "output_type": "execute_result"
    }
   ],
   "source": [
    "q117.iloc[:, 80:90].head()"
   ]
  },
  {
   "cell_type": "code",
   "execution_count": 12,
   "metadata": {
    "collapsed": false
   },
   "outputs": [
    {
     "data": {
      "text/html": [
       "<div>\n",
       "<table border=\"1\" class=\"dataframe\">\n",
       "  <thead>\n",
       "    <tr style=\"text-align: right;\">\n",
       "      <th></th>\n",
       "      <th>pub_rec_bankruptcies</th>\n",
       "      <th>tax_liens</th>\n",
       "      <th>tot_hi_cred_lim</th>\n",
       "      <th>total_bal_ex_mort</th>\n",
       "      <th>total_bc_limit</th>\n",
       "      <th>total_il_high_credit_limit</th>\n",
       "    </tr>\n",
       "  </thead>\n",
       "  <tbody>\n",
       "    <tr>\n",
       "      <th>0</th>\n",
       "      <td>1.0</td>\n",
       "      <td>0.0</td>\n",
       "      <td>93599.0</td>\n",
       "      <td>36506.0</td>\n",
       "      <td>9000.0</td>\n",
       "      <td>55699.0</td>\n",
       "    </tr>\n",
       "    <tr>\n",
       "      <th>1</th>\n",
       "      <td>0.0</td>\n",
       "      <td>0.0</td>\n",
       "      <td>148572.0</td>\n",
       "      <td>69364.0</td>\n",
       "      <td>60300.0</td>\n",
       "      <td>30224.0</td>\n",
       "    </tr>\n",
       "    <tr>\n",
       "      <th>2</th>\n",
       "      <td>0.0</td>\n",
       "      <td>0.0</td>\n",
       "      <td>205671.0</td>\n",
       "      <td>51591.0</td>\n",
       "      <td>36100.0</td>\n",
       "      <td>36876.0</td>\n",
       "    </tr>\n",
       "    <tr>\n",
       "      <th>3</th>\n",
       "      <td>0.0</td>\n",
       "      <td>0.0</td>\n",
       "      <td>152852.0</td>\n",
       "      <td>136208.0</td>\n",
       "      <td>2500.0</td>\n",
       "      <td>139652.0</td>\n",
       "    </tr>\n",
       "    <tr>\n",
       "      <th>4</th>\n",
       "      <td>0.0</td>\n",
       "      <td>0.0</td>\n",
       "      <td>72865.0</td>\n",
       "      <td>60622.0</td>\n",
       "      <td>23200.0</td>\n",
       "      <td>49665.0</td>\n",
       "    </tr>\n",
       "  </tbody>\n",
       "</table>\n",
       "</div>"
      ],
      "text/plain": [
       "   pub_rec_bankruptcies  tax_liens  tot_hi_cred_lim  total_bal_ex_mort  \\\n",
       "0                   1.0        0.0          93599.0            36506.0   \n",
       "1                   0.0        0.0         148572.0            69364.0   \n",
       "2                   0.0        0.0         205671.0            51591.0   \n",
       "3                   0.0        0.0         152852.0           136208.0   \n",
       "4                   0.0        0.0          72865.0            60622.0   \n",
       "\n",
       "   total_bc_limit  total_il_high_credit_limit  \n",
       "0          9000.0                     55699.0  \n",
       "1         60300.0                     30224.0  \n",
       "2         36100.0                     36876.0  \n",
       "3          2500.0                    139652.0  \n",
       "4         23200.0                     49665.0  "
      ]
     },
     "execution_count": 12,
     "metadata": {},
     "output_type": "execute_result"
    }
   ],
   "source": [
    "q117.iloc[:, 90:96].head()"
   ]
  },
  {
   "cell_type": "code",
   "execution_count": 13,
   "metadata": {
    "collapsed": false
   },
   "outputs": [
    {
     "data": {
      "text/plain": [
       "grade\n",
       "A    13102\n",
       "dtype: int64"
      ]
     },
     "execution_count": 13,
     "metadata": {},
     "output_type": "execute_result"
    }
   ],
   "source": [
    "# Experimenting with different ways to get the # of A loans\n",
    "# Method 1: groupby. Produces a series\n",
    "q117.groupby(q117[q117.grade=='A'].grade).size()"
   ]
  },
  {
   "cell_type": "code",
   "execution_count": 14,
   "metadata": {
    "collapsed": false
   },
   "outputs": [
    {
     "data": {
      "text/plain": [
       "13102"
      ]
     },
     "execution_count": 14,
     "metadata": {},
     "output_type": "execute_result"
    }
   ],
   "source": [
    "# Method 2: len. Produces an int\n",
    "len(q117[q117.grade=='A'].grade)"
   ]
  },
  {
   "cell_type": "code",
   "execution_count": 15,
   "metadata": {
    "collapsed": false
   },
   "outputs": [
    {
     "data": {
      "text/plain": [
       "186992150.0"
      ]
     },
     "execution_count": 15,
     "metadata": {},
     "output_type": "execute_result"
    }
   ],
   "source": [
    "# Total $ amount of A loans\n",
    "q117[q117.grade=='A'].loan_amnt.sum()"
   ]
  },
  {
   "cell_type": "code",
   "execution_count": 16,
   "metadata": {
    "collapsed": false
   },
   "outputs": [
    {
     "data": {
      "text/plain": [
       "<matplotlib.text.Text at 0x1a00135dbe0>"
      ]
     },
     "execution_count": 16,
     "metadata": {},
     "output_type": "execute_result"
    },
    {
     "data": {
      "image/png": "[encoded data removed]",
      "text/plain": [
       "<matplotlib.figure.Figure at 0x1a000e4a630>"
      ]
     },
     "metadata": {},
     "output_type": "display_data"
    }
   ],
   "source": [
    "q117.groupby('grade').size().plot(kind='bar')\n",
    "\n",
    "plt.ylabel('Count')\n",
    "plt.xlabel('Grade')\n",
    "plt.title('Grade Distribution')\n",
    "\n",
    "# Most borrowers fall in grades B and C"
   ]
  },
  {
   "cell_type": "code",
   "execution_count": 17,
   "metadata": {
    "collapsed": false,
    "scrolled": true
   },
   "outputs": [
    {
     "data": {
      "text/plain": [
       "<matplotlib.text.Text at 0x1a001353160>"
      ]
     },
     "execution_count": 17,
     "metadata": {},
     "output_type": "execute_result"
    },
    {
     "data": {
      "image/png": "[encoded data removed]",
      "text/plain": [
       "<matplotlib.figure.Figure at 0x1a001010a58>"
      ]
     },
     "metadata": {},
     "output_type": "display_data"
    }
   ],
   "source": [
    "q117.groupby('sub_grade').size().plot(kind='bar')\n",
    "\n",
    "plt.ylabel('Count')\n",
    "plt.xlabel('Subgrade')\n",
    "plt.title('Subgrade Distribution')\n",
    "\n",
    "# Within B and C, B1, B5 and C1 have the most number of borrowers"
   ]
  },
  {
   "cell_type": "code",
   "execution_count": 18,
   "metadata": {
    "collapsed": false
   },
   "outputs": [
    {
     "data": {
      "text/plain": [
       "<matplotlib.text.Text at 0x1a002a966d8>"
      ]
     },
     "execution_count": 18,
     "metadata": {},
     "output_type": "execute_result"
    },
    {
     "data": {
      "image/png": "[encoded data removed]",
      "text/plain": [
       "<matplotlib.figure.Figure at 0x1a001e444a8>"
      ]
     },
     "metadata": {},
     "output_type": "display_data"
    }
   ],
   "source": [
    "q117.groupby('grade').loan_amnt.sum().plot(kind='bar')\n",
    "\n",
    "plt.ylabel('Total $ Amount')\n",
    "plt.xlabel('Grade')\n",
    "plt.title('Sum of $ Amount of Loans by Grade')\n",
    "\n",
    "# B and C loans have the highest sums\n",
    "# This graph looks almost identical to the # of loans distribution by grade"
   ]
  },
  {
   "cell_type": "code",
   "execution_count": 19,
   "metadata": {
    "collapsed": false,
    "scrolled": true
   },
   "outputs": [
    {
     "data": {
      "text/plain": [
       "<matplotlib.text.Text at 0x1a003685710>"
      ]
     },
     "execution_count": 19,
     "metadata": {},
     "output_type": "execute_result"
    },
    {
     "data": {
      "image/png": "[encoded data removed]",
      "text/plain": [
       "<matplotlib.figure.Figure at 0x1a002ae0908>"
      ]
     },
     "metadata": {},
     "output_type": "display_data"
    }
   ],
   "source": [
    "q117.groupby('sub_grade').loan_amnt.sum().plot(kind='bar')\n",
    "\n",
    "plt.ylabel('Total $ Amount')\n",
    "plt.xlabel('Subgrade')\n",
    "plt.title('Sum of $ Amount of Loans by Subgrade')\n",
    "\n",
    "# B1, B5, and C1 have the highest sums\n",
    "# Again, this chart is very similar to the distribution of # of loans by subgrade"
   ]
  },
  {
   "cell_type": "code",
   "execution_count": 20,
   "metadata": {
    "collapsed": false
   },
   "outputs": [
    {
     "data": {
      "text/plain": [
       "<matplotlib.text.Text at 0x1a00b4b6160>"
      ]
     },
     "execution_count": 20,
     "metadata": {},
     "output_type": "execute_result"
    },
    {
     "data": {
      "image/png": "[encoded data removed]",
      "text/plain": [
       "<matplotlib.figure.Figure at 0x1a00b44b898>"
      ]
     },
     "metadata": {},
     "output_type": "display_data"
    }
   ],
   "source": [
    "q117.groupby('grade').loan_amnt.mean().plot(kind='bar')\n",
    "\n",
    "plt.ylabel('Average $ Amount')\n",
    "plt.xlabel('Grade')\n",
    "plt.title('Average Loan Size ($) by Grade')\n",
    "\n",
    "# Average loan size in A, B, and C grades do not vary much\n",
    "# This explains why $ amount and count distribution charts look very similar\n",
    "# The least credit-worthy grades ask for larger loans on average"
   ]
  },
  {
   "cell_type": "code",
   "execution_count": 21,
   "metadata": {
    "collapsed": false
   },
   "outputs": [
    {
     "data": {
      "text/plain": [
       "<matplotlib.text.Text at 0x1a00b556f98>"
      ]
     },
     "execution_count": 21,
     "metadata": {},
     "output_type": "execute_result"
    },
    {
     "data": {
      "image/png": "[encoded data removed]",
      "text/plain": [
       "<matplotlib.figure.Figure at 0x1a00b4fb9e8>"
      ]
     },
     "metadata": {},
     "output_type": "display_data"
    }
   ],
   "source": [
    "q117.groupby('sub_grade').loan_amnt.mean().plot(kind='bar')\n",
    "\n",
    "plt.ylabel('Average $ Amount')\n",
    "plt.xlabel('Subgrade')\n",
    "plt.title('Average Loan Size ($) by Subgrade')\n",
    "\n",
    "# Similar findings as above chart: loan size $ by grade"
   ]
  },
  {
   "cell_type": "code",
   "execution_count": 22,
   "metadata": {
    "collapsed": false
   },
   "outputs": [
    {
     "data": {
      "text/plain": [
       "<matplotlib.text.Text at 0x1a00b6f0d30>"
      ]
     },
     "execution_count": 22,
     "metadata": {},
     "output_type": "execute_result"
    },
    {
     "data": {
      "image/png": "[encoded data removed]",
      "text/plain": [
       "<matplotlib.figure.Figure at 0x1a00b668e80>"
      ]
     },
     "metadata": {},
     "output_type": "display_data"
    }
   ],
   "source": [
    "q117.groupby('grade').int_rate.mean().plot(kind='bar')\n",
    "\n",
    "plt.ylabel('Average Interest Rate (%)')\n",
    "plt.xlabel('Grade')\n",
    "plt.title('Average Interest Rate by Grade')\n",
    "\n",
    "# Confirms that average interest rate increases with grade\n",
    "# The largest deltas look to be between grades A and B and grades D and E\n",
    "# There is not much of a difference between F and G"
   ]
  },
  {
   "cell_type": "code",
   "execution_count": 23,
   "metadata": {
    "collapsed": false
   },
   "outputs": [
    {
     "data": {
      "text/plain": [
       "<matplotlib.text.Text at 0x1a00b78b8d0>"
      ]
     },
     "execution_count": 23,
     "metadata": {},
     "output_type": "execute_result"
    },
    {
     "data": {
      "image/png": "[encoded data removed]",
      "text/plain": [
       "<matplotlib.figure.Figure at 0x1a00b740be0>"
      ]
     },
     "metadata": {},
     "output_type": "display_data"
    }
   ],
   "source": [
    "q117.groupby('sub_grade').int_rate.mean().plot(kind='bar')\n",
    "\n",
    "plt.ylabel('Average Interest Rate (%)')\n",
    "plt.xlabel('Subgrade')\n",
    "plt.title('Average Interest Rate by Subgrade')\n",
    "\n",
    "# Within grades A and B, there is not much of a ramp in interest rates by subgrade\n",
    "# In grades C through E, there is a steeper ramp of interest rates\n",
    "# There is not much variance in interest rates within F and G"
   ]
  },
  {
   "cell_type": "code",
   "execution_count": 24,
   "metadata": {
    "collapsed": false
   },
   "outputs": [
    {
     "data": {
      "text/plain": [
       "<matplotlib.text.Text at 0x1a00b77e908>"
      ]
     },
     "execution_count": 24,
     "metadata": {},
     "output_type": "execute_result"
    },
    {
     "data": {
      "image/png": "[encoded data removed]",
      "text/plain": [
       "<matplotlib.figure.Figure at 0x1a00b8a0240>"
      ]
     },
     "metadata": {},
     "output_type": "display_data"
    }
   ],
   "source": [
    "f2, ax2 = plt.subplots()\n",
    "bins=[x+5 for x in range(27)]\n",
    "ax2.hist(q117.int_rate, bins, width=0.8)\n",
    "\n",
    "ax2.set_xlabel('Interest Rate')\n",
    "ax2.set_ylabel('# Borrowers')\n",
    "ax2.set_title('Distribution of Interest Rates')\n",
    "\n",
    "# There are no loans with interest rates between 9-10% and 20-21%"
   ]
  },
  {
   "cell_type": "code",
   "execution_count": 25,
   "metadata": {
    "collapsed": false
   },
   "outputs": [
    {
     "data": {
      "text/plain": [
       "grade  int_rate\n",
       "A      5.32        3544\n",
       "       6.99        2157\n",
       "       7.24        2076\n",
       "       7.49        2281\n",
       "       7.99        3044\n",
       "B      6.00           1\n",
       "       8.24        5211\n",
       "       10.49       3673\n",
       "       11.39       3957\n",
       "       11.44       4550\n",
       "       11.49       6627\n",
       "C      6.00           1\n",
       "       12.74       7332\n",
       "       13.49       5180\n",
       "       13.99       4970\n",
       "       14.99       5411\n",
       "       15.99       5286\n",
       "D      6.00           1\n",
       "       16.99       3551\n",
       "       17.99       2174\n",
       "       18.99       2321\n",
       "       19.99       1096\n",
       "       21.49        296\n",
       "E      6.00           1\n",
       "       22.74       1392\n",
       "       23.99        923\n",
       "       24.74        450\n",
       "       25.49        704\n",
       "       26.24        570\n",
       "F      28.69        600\n",
       "       29.49        261\n",
       "       29.99        224\n",
       "       30.49        190\n",
       "       30.74        159\n",
       "G      30.79        119\n",
       "       30.84        104\n",
       "       30.89         78\n",
       "       30.94         52\n",
       "       30.99         69\n",
       "dtype: int64"
      ]
     },
     "execution_count": 25,
     "metadata": {},
     "output_type": "execute_result"
    }
   ],
   "source": [
    "# Work in progress. Goal is to plot interest rate distribution with a seperate bar for each grade\n",
    "\n",
    "#f3, ax3 = plt.subplots()\n",
    "#ax3.bar(q117.groupby(['grade', 'int_rate']).size(), q117.groupby(['grade', 'int_rate']).size())\n",
    "q117.groupby(['grade', 'int_rate']).size()\n",
    "\n",
    "#ax3.set_xlabel('Interest Rate')\n",
    "#ax3.set_ylabel('# Borrowers')\n",
    "#ax3.set_title('Distribution of Interest Rates')"
   ]
  },
  {
   "cell_type": "code",
   "execution_count": 26,
   "metadata": {
    "collapsed": false
   },
   "outputs": [
    {
     "name": "stdout",
     "output_type": "stream",
     "text": [
      "1.81184840417\n"
     ]
    },
    {
     "data": {
      "image/png": "[encoded data removed]",
      "text/plain": [
       "<matplotlib.figure.Figure at 0x1a00b9cf4a8>"
      ]
     },
     "metadata": {},
     "output_type": "display_data"
    }
   ],
   "source": [
    "q117.groupby('term').loan_amnt.sum().plot(kind='bar')\n",
    "\n",
    "plt.ylabel('Sum of Loan Amounts ($)')\n",
    "plt.xlabel('Term')\n",
    "plt.title('Sum of Loan Amounts by Term')\n",
    "\n",
    "print(q117.groupby('term').loan_amnt.sum()[0]/q117.groupby('term').loan_amnt.sum()[1])\n",
    "\n",
    "# The $ value of 36 month loans is 1.8x higher than the $ value of 60 month loans"
   ]
  },
  {
   "cell_type": "code",
   "execution_count": 27,
   "metadata": {
    "collapsed": false
   },
   "outputs": [
    {
     "name": "stdout",
     "output_type": "stream",
     "text": [
      "2.86891852989\n"
     ]
    },
    {
     "data": {
      "image/png": "[encoded data removed]",
      "text/plain": [
       "<matplotlib.figure.Figure at 0x1a00ba7cb38>"
      ]
     },
     "metadata": {},
     "output_type": "display_data"
    }
   ],
   "source": [
    "q117.groupby('term').loan_amnt.size().plot(kind='bar')\n",
    "\n",
    "plt.ylabel('# of Loans')\n",
    "plt.xlabel('Term')\n",
    "plt.title('# of Loans by Term')\n",
    "\n",
    "print(q117.groupby('term').loan_amnt.size()[0]/q117.groupby('term').loan_amnt.size()[1])\n",
    "\n",
    "\n",
    "# There are more 2.9x more 36 month loans than 60 month loans\n",
    "# In combination with the previous chart, we can see that while there are 2.8x more 36 month loans than 60 month loans,\n",
    "# the $ value of 36 month loans is only 1.8x larger\n",
    "# Thus, 60 month loans must have a higher average $ value"
   ]
  },
  {
   "cell_type": "code",
   "execution_count": 28,
   "metadata": {
    "collapsed": false
   },
   "outputs": [
    {
     "name": "stdout",
     "output_type": "stream",
     "text": [
      "1.58342084431\n"
     ]
    },
    {
     "data": {
      "image/png": "[encoded data removed]",
      "text/plain": [
       "<matplotlib.figure.Figure at 0x1a00bac1438>"
      ]
     },
     "metadata": {},
     "output_type": "display_data"
    }
   ],
   "source": [
    "q117.groupby('term').loan_amnt.mean().plot(kind='bar')\n",
    "\n",
    "plt.ylabel('Average Loan Size')\n",
    "plt.xlabel('Term')\n",
    "plt.title('Average Size of Loans by Term')\n",
    "\n",
    "print(q117.groupby('term').loan_amnt.mean()[1]/q117.groupby('term').loan_amnt.mean()[0])\n",
    "\n",
    "\n",
    "# Confirm findings from above. 60 month loans have, on average, a 1.6x higher avaerage $ value than 36 month loans"
   ]
  },
  {
   "cell_type": "code",
   "execution_count": 29,
   "metadata": {
    "collapsed": false
   },
   "outputs": [
    {
     "data": {
      "text/plain": [
       "<matplotlib.text.Text at 0x1a00bbff1d0>"
      ]
     },
     "execution_count": 29,
     "metadata": {},
     "output_type": "execute_result"
    },
    {
     "data": {
      "image/png": "[encoded data removed]",
      "text/plain": [
       "<matplotlib.figure.Figure at 0x1a00b8a9278>"
      ]
     },
     "metadata": {},
     "output_type": "display_data"
    }
   ],
   "source": [
    "# Experiment by using value_counts instead of groupby\n",
    "q117.purpose.value_counts().plot(kind='bar')\n",
    "\n",
    "plt.ylabel('# of Loans')\n",
    "plt.xlabel('Purpose')\n",
    "plt.title('Count of Purpose of Loans')\n",
    "\n",
    "# Debt consolidation and credit card are the most popular uses of loans\n",
    "# Debt consolidation is by far the largest category"
   ]
  },
  {
   "cell_type": "code",
   "execution_count": 30,
   "metadata": {
    "collapsed": false
   },
   "outputs": [
    {
     "data": {
      "text/plain": [
       "<matplotlib.text.Text at 0x1a00bcc8ef0>"
      ]
     },
     "execution_count": 30,
     "metadata": {},
     "output_type": "execute_result"
    },
    {
     "data": {
      "image/png": "[encoded data removed]",
      "text/plain": [
       "<matplotlib.figure.Figure at 0x1a00bc6ccc0>"
      ]
     },
     "metadata": {},
     "output_type": "display_data"
    }
   ],
   "source": [
    "q117.groupby('purpose').loan_amnt.sum().sort_values(ascending=False).plot(kind='bar')\n",
    "\n",
    "plt.ylabel('$ Value of Loans')\n",
    "plt.xlabel('Purpose')\n",
    "plt.title('$ Value by Purpose of Loans')\n",
    "\n",
    "# Confirm findings from above. This chart and the previous one look very similar"
   ]
  },
  {
   "cell_type": "code",
   "execution_count": 31,
   "metadata": {
    "collapsed": false
   },
   "outputs": [
    {
     "name": "stdout",
     "output_type": "stream",
     "text": [
      "                            OLS Regression Results                            \n",
      "==============================================================================\n",
      "Dep. Variable:               int_rate   R-squared:                       0.001\n",
      "Model:                            OLS   Adj. R-squared:                  0.001\n",
      "Method:                 Least Squares   F-statistic:                     71.50\n",
      "Date:                Sun, 04 Jun 2017   Prob (F-statistic):           2.82e-17\n",
      "Time:                        19:24:33   Log-Likelihood:            -2.4503e+05\n",
      "No. Observations:               80636   AIC:                         4.901e+05\n",
      "Df Residuals:                   80634   BIC:                         4.901e+05\n",
      "Df Model:                           1                                         \n",
      "Covariance Type:            nonrobust                                         \n",
      "==============================================================================\n",
      "                 coef    std err          t      P>|t|      [95.0% Conf. Int.]\n",
      "------------------------------------------------------------------------------\n",
      "const         13.1952      0.019    694.834      0.000        13.158    13.232\n",
      "dti            0.0030      0.000      8.456      0.000         0.002     0.004\n",
      "==============================================================================\n",
      "Omnibus:                    13379.854   Durbin-Watson:                   1.991\n",
      "Prob(Omnibus):                  0.000   Jarque-Bera (JB):            24177.322\n",
      "Skew:                           1.061   Prob(JB):                         0.00\n",
      "Kurtosis:                       4.641   Cond. No.                         57.7\n",
      "==============================================================================\n",
      "\n",
      "Warnings:\n",
      "[1] Standard Errors assume that the covariance matrix of the errors is correctly specified.\n"
     ]
    },
    {
     "data": {
      "image/png": "[encoded data removed]",
      "text/plain": [
       "<matplotlib.figure.Figure at 0x1a00bbde710>"
      ]
     },
     "metadata": {},
     "output_type": "display_data"
    }
   ],
   "source": [
    "f4, ax4 = plt.subplots()\n",
    "ax4.scatter(q117.dti, q117.int_rate)\n",
    "\n",
    "# Set DTI limit of 500\n",
    "ax4.set_xlim(right=500, left=0)\n",
    "\n",
    "ax4.set_xlabel('DTI')\n",
    "ax4.set_ylabel('Interest rate')\n",
    "ax4.set_title('DTI vs Interest Rate')\n",
    "\n",
    "# Add stats summary\n",
    "results = sm.OLS(q117.int_rate,sm.add_constant(q117.dti)).fit()\n",
    "print(results.summary())\n",
    "\n",
    "# There is no correlation between DTI and interest rate. R2 is close to 0"
   ]
  },
  {
   "cell_type": "code",
   "execution_count": 39,
   "metadata": {
    "collapsed": false,
    "scrolled": true
   },
   "outputs": [
    {
     "data": {
      "text/plain": [
       "<matplotlib.text.Text at 0x1a00c357b00>"
      ]
     },
     "execution_count": 39,
     "metadata": {},
     "output_type": "execute_result"
    },
    {
     "data": {
      "image/png": "[encoded data removed]",
      "text/plain": [
       "<matplotlib.figure.Figure at 0x1a00d09d828>"
      ]
     },
     "metadata": {},
     "output_type": "display_data"
    }
   ],
   "source": [
    "q117.groupby(['grade', 'chargeoff_within_12_mths']).size().plot(kind='bar')\n",
    "\n",
    "plt.ylabel('Count')\n",
    "plt.xlabel('Grade, # Chargeoffs within 12 Months')\n",
    "plt.title('# of Chargeoffs within 12 Months by Grade')\n",
    "\n",
    "# The majority of borrowers have had 0 chargeoffs within 12 months"
   ]
  },
  {
   "cell_type": "code",
   "execution_count": 43,
   "metadata": {
    "collapsed": false
   },
   "outputs": [
    {
     "data": {
      "text/plain": [
       "grade  chargeoff_within_12_mths\n",
       "A      0.0                         13050\n",
       "       1.0                            49\n",
       "       2.0                             3\n",
       "B      0.0                         23788\n",
       "       1.0                           214\n",
       "       2.0                            13\n",
       "       3.0                             4\n",
       "C      0.0                         27950\n",
       "       1.0                           216\n",
       "       2.0                             8\n",
       "       3.0                             3\n",
       "       4.0                             2\n",
       "       5.0                             1\n",
       "D      0.0                          9364\n",
       "       1.0                            68\n",
       "       2.0                             6\n",
       "       8.0                             1\n",
       "E      0.0                          4009\n",
       "       1.0                            30\n",
       "       2.0                             1\n",
       "F      0.0                          1426\n",
       "       1.0                             7\n",
       "       3.0                             1\n",
       "G      0.0                           421\n",
       "       1.0                             1\n",
       "dtype: int64"
      ]
     },
     "execution_count": 43,
     "metadata": {},
     "output_type": "execute_result"
    }
   ],
   "source": [
    "q117.groupby(['grade', 'chargeoff_within_12_mths']).size()\n",
    "\n",
    "# Hard data from chart above"
   ]
  },
  {
   "cell_type": "code",
   "execution_count": 35,
   "metadata": {
    "collapsed": false
   },
   "outputs": [
    {
     "data": {
      "text/plain": [
       "<matplotlib.axes._subplots.AxesSubplot at 0x1a00b94d3c8>"
      ]
     },
     "execution_count": 35,
     "metadata": {},
     "output_type": "execute_result"
    },
    {
     "data": {
      "image/png": "[encoded data removed]",
      "text/plain": [
       "<matplotlib.figure.Figure at 0x1a00c0bb358>"
      ]
     },
     "metadata": {},
     "output_type": "display_data"
    }
   ],
   "source": [
    "# Plot home ownership type count by grade. Again, would be nice to have this by % breakout\n",
    "q117.groupby(['grade', 'home_ownership']).size().plot(kind='bar')"
   ]
  },
  {
   "cell_type": "code",
   "execution_count": 50,
   "metadata": {
    "collapsed": false
   },
   "outputs": [
    {
     "data": {
      "text/plain": [
       "<matplotlib.text.Text at 0x1a00d67f198>"
      ]
     },
     "execution_count": 50,
     "metadata": {},
     "output_type": "execute_result"
    },
    {
     "data": {
      "image/png": "[encoded data removed]",
      "text/plain": [
       "<matplotlib.figure.Figure at 0x1a00d5ca6a0>"
      ]
     },
     "metadata": {},
     "output_type": "display_data"
    }
   ],
   "source": [
    "q117.groupby(['home_ownership']).size().sort_values(ascending=False).plot(kind='bar')\n",
    "\n",
    "plt.ylabel('Count')\n",
    "plt.xlabel('Home Ownership Status')\n",
    "plt.title('# Loans by Home Ownership Status')\n",
    "\n",
    "# Most borrowers have a mortgage, which provides a hard asset in case of default\n",
    "# Renters are the second largest category\n",
    "# Very few borrowers outright own their house"
   ]
  },
  {
   "cell_type": "code",
   "execution_count": 51,
   "metadata": {
    "collapsed": false
   },
   "outputs": [
    {
     "data": {
      "text/plain": [
       "<matplotlib.text.Text at 0x1a00d7219b0>"
      ]
     },
     "execution_count": 51,
     "metadata": {},
     "output_type": "execute_result"
    },
    {
     "data": {
      "image/png": "[encoded data removed]",
      "text/plain": [
       "<matplotlib.figure.Figure at 0x1a00d6740b8>"
      ]
     },
     "metadata": {},
     "output_type": "display_data"
    }
   ],
   "source": [
    "q117.groupby(['home_ownership']).loan_amnt.sum().sort_values(ascending=False).plot(kind='bar')\n",
    "\n",
    "plt.ylabel('$ Value of Loans')\n",
    "plt.xlabel('Home Ownership Status')\n",
    "plt.title('$ Value of Loans by Home Ownership Status')\n",
    "\n",
    "# Borrowers with a mortgage have a higher average loan size than renters or owners"
   ]
  },
  {
   "cell_type": "code",
   "execution_count": 53,
   "metadata": {
    "collapsed": false
   },
   "outputs": [
    {
     "data": {
      "text/plain": [
       "<matplotlib.text.Text at 0x1a00d868630>"
      ]
     },
     "execution_count": 53,
     "metadata": {},
     "output_type": "execute_result"
    },
    {
     "data": {
      "image/png": "[encoded data removed]",
      "text/plain": [
       "<matplotlib.figure.Figure at 0x1a00d822a58>"
      ]
     },
     "metadata": {},
     "output_type": "display_data"
    }
   ],
   "source": [
    "q117.groupby(['home_ownership']).loan_amnt.mean().sort_values(ascending=False).plot(kind='bar')\n",
    "\n",
    "plt.ylabel('Average $ Value of Loans')\n",
    "plt.xlabel('Home Ownership Status')\n",
    "plt.title('Average $ Value of Loans by Home Ownership Status')\n",
    "\n",
    "# Confirm findings from above\n",
    "# Interestingly, renters have the lowest average $ value of loans"
   ]
  },
  {
   "cell_type": "code",
   "execution_count": 55,
   "metadata": {
    "collapsed": false
   },
   "outputs": [
    {
     "data": {
      "text/plain": [
       "<matplotlib.text.Text at 0x1a00d9b6e48>"
      ]
     },
     "execution_count": 55,
     "metadata": {},
     "output_type": "execute_result"
    },
    {
     "data": {
      "image/png": "[encoded data removed]",
      "text/plain": [
       "<matplotlib.figure.Figure at 0x1a00d96a780>"
      ]
     },
     "metadata": {},
     "output_type": "display_data"
    }
   ],
   "source": [
    "q117.groupby('grade').annual_inc.mean().plot(kind='bar')\n",
    "\n",
    "plt.ylabel('Average Annual Income')\n",
    "plt.xlabel('Grade')\n",
    "plt.title('Average Annual Income by Grade')\n",
    "\n",
    "# Grade A borrowers have an average annual income over $100k\n",
    "# There is a larger delta between A and B annual incomes than I originally thought\n",
    "# Surprisingly, annual income increases from E to G\n",
    "# This shows that LC became a lot stricter with lower grade loans in order to try to fix the inverted returns curve"
   ]
  },
  {
   "cell_type": "code",
   "execution_count": 57,
   "metadata": {
    "collapsed": false
   },
   "outputs": [
    {
     "data": {
      "text/plain": [
       "<matplotlib.text.Text at 0x1a00db0e9b0>"
      ]
     },
     "execution_count": 57,
     "metadata": {},
     "output_type": "execute_result"
    },
    {
     "data": {
      "image/png": "[encoded data removed]",
      "text/plain": [
       "<matplotlib.figure.Figure at 0x1a00d008d30>"
      ]
     },
     "metadata": {},
     "output_type": "display_data"
    }
   ],
   "source": [
    "q117.groupby('grade').dti.mean().plot(kind='bar')\n",
    "\n",
    "plt.ylabel('Average Debt to Income Ratio')\n",
    "plt.xlabel('Grade')\n",
    "plt.title('DTI by Grade')\n",
    "\n",
    "# Unsurprisingly, lower grade borrowers have a higher average DTI than higher grade borrowers"
   ]
  },
  {
   "cell_type": "code",
   "execution_count": 60,
   "metadata": {
    "collapsed": false
   },
   "outputs": [
    {
     "data": {
      "text/plain": [
       "<matplotlib.text.Text at 0x1a00dd17b00>"
      ]
     },
     "execution_count": 60,
     "metadata": {},
     "output_type": "execute_result"
    },
    {
     "data": {
      "image/png": "[encoded data removed]",
      "text/plain": [
       "<matplotlib.figure.Figure at 0x1a00dcc1668>"
      ]
     },
     "metadata": {},
     "output_type": "display_data"
    }
   ],
   "source": [
    "q117.groupby('grade').revol_bal.mean().plot(kind='bar')\n",
    "\n",
    "plt.ylabel('Average Revolver Balance')\n",
    "plt.xlabel('Grade')\n",
    "plt.title('Revolver Balance by Grade')\n",
    "\n",
    "# Not much of a pattern except that grade A borrowers have larger credit lines than other grades\n",
    "# Grades F and G borrowers are likely in more debt than other borrowers, which is why they also have relatively large credit lines"
   ]
  },
  {
   "cell_type": "code",
   "execution_count": 61,
   "metadata": {
    "collapsed": false
   },
   "outputs": [
    {
     "data": {
      "text/plain": [
       "<matplotlib.text.Text at 0x1a00ddd12e8>"
      ]
     },
     "execution_count": 61,
     "metadata": {},
     "output_type": "execute_result"
    },
    {
     "data": {
      "image/png": "[encoded data removed]",
      "text/plain": [
       "<matplotlib.figure.Figure at 0x1a00dd75438>"
      ]
     },
     "metadata": {},
     "output_type": "display_data"
    }
   ],
   "source": [
    "q117.groupby('grade').revol_util.mean().plot(kind='bar')\n",
    "\n",
    "plt.ylabel('Average Revolver Utilization (%)')\n",
    "plt.xlabel('Grade')\n",
    "plt.title('Average Revolver Utilization by Grade')\n",
    "\n",
    "# Surprisingly, grade G borrowers utilize less of their credit line than grades C through F"
   ]
  },
  {
   "cell_type": "code",
   "execution_count": null,
   "metadata": {
    "collapsed": false
   },
   "outputs": [],
   "source": []
  },
  {
   "cell_type": "code",
   "execution_count": null,
   "metadata": {
    "collapsed": true
   },
   "outputs": [],
   "source": []
  },
  {
   "cell_type": "code",
   "execution_count": null,
   "metadata": {
    "collapsed": true
   },
   "outputs": [],
   "source": []
  },
  {
   "cell_type": "code",
   "execution_count": 27,
   "metadata": {
    "collapsed": false
   },
   "outputs": [
    {
     "data": {
      "text/plain": [
       "<matplotlib.text.Text at 0x1a19442b198>"
      ]
     },
     "execution_count": 27,
     "metadata": {},
     "output_type": "execute_result"
    },
    {
     "data": {
      "image/png": "[encoded data removed]",
      "text/plain": [
       "<matplotlib.figure.Figure at 0x1a1943122e8>"
      ]
     },
     "metadata": {},
     "output_type": "display_data"
    }
   ],
   "source": [
    "# Graph the above chart using different matplotlib methods. How can I get the labels to auto populate?\n",
    "fig, axes = plt.subplots()\n",
    "axes.pie(q117.groupby('loan_status').size(), autopct='%1.1f%%')\n",
    "axes.set_title('Loan Status')"
   ]
  },
  {
   "cell_type": "code",
   "execution_count": null,
   "metadata": {
    "collapsed": true
   },
   "outputs": [],
   "source": []
  },
  {
   "cell_type": "code",
   "execution_count": null,
   "metadata": {
    "collapsed": true
   },
   "outputs": [],
   "source": []
  },
  {
   "cell_type": "code",
   "execution_count": null,
   "metadata": {
    "collapsed": true
   },
   "outputs": [],
   "source": []
  },
  {
   "cell_type": "code",
   "execution_count": null,
   "metadata": {
    "collapsed": true
   },
   "outputs": [],
   "source": []
  },
  {
   "cell_type": "code",
   "execution_count": null,
   "metadata": {
    "collapsed": true
   },
   "outputs": [],
   "source": []
  },
  {
   "cell_type": "code",
   "execution_count": null,
   "metadata": {
    "collapsed": true
   },
   "outputs": [],
   "source": []
  }
 ],
 "metadata": {
  "kernelspec": {
   "display_name": "Python 3",
   "language": "python",
   "name": "python3"
  },
  "language_info": {
   "codemirror_mode": {
    "name": "ipython",
    "version": 3
   },
   "file_extension": ".py",
   "mimetype": "text/x-python",
   "name": "python",
   "nbconvert_exporter": "python",
   "pygments_lexer": "ipython3",
   "version": "3.6.0"
  }
 },
 "nbformat": 4,
 "nbformat_minor": 2
}
