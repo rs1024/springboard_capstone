{
 "cells": [
  {
   "cell_type": "code",
   "execution_count": 97,
   "metadata": {
    "collapsed": true
   },
   "outputs": [],
   "source": [
    "%matplotlib inline\n",
    "import pandas as pd\n",
    "import numpy as np\n",
    "import matplotlib.pyplot as plt"
   ]
  },
  {
   "cell_type": "code",
   "execution_count": 100,
   "metadata": {
    "collapsed": false
   },
   "outputs": [
    {
     "name": "stderr",
     "output_type": "stream",
     "text": [
      "C:\\Users\\richa\\Anaconda3\\lib\\site-packages\\IPython\\core\\interactiveshell.py:2821: DtypeWarning: Columns (0,112) have mixed types. Specify dtype option on import or set low_memory=False.\n",
      "  if self.run_code(code, result):\n"
     ]
    },
    {
     "data": {
      "text/html": [
       "<div>\n",
       "<table border=\"1\" class=\"dataframe\">\n",
       "  <thead>\n",
       "    <tr style=\"text-align: right;\">\n",
       "      <th></th>\n",
       "      <th>loan_amnt</th>\n",
       "      <th>funded_amnt</th>\n",
       "      <th>funded_amnt_inv</th>\n",
       "      <th>term</th>\n",
       "      <th>int_rate</th>\n",
       "      <th>installment</th>\n",
       "      <th>grade</th>\n",
       "      <th>sub_grade</th>\n",
       "      <th>emp_title</th>\n",
       "      <th>emp_length</th>\n",
       "      <th>...</th>\n",
       "      <th>num_tl_90g_dpd_24m</th>\n",
       "      <th>num_tl_op_past_12m</th>\n",
       "      <th>pct_tl_nvr_dlq</th>\n",
       "      <th>percent_bc_gt_75</th>\n",
       "      <th>pub_rec_bankruptcies</th>\n",
       "      <th>tax_liens</th>\n",
       "      <th>tot_hi_cred_lim</th>\n",
       "      <th>total_bal_ex_mort</th>\n",
       "      <th>total_bc_limit</th>\n",
       "      <th>total_il_high_credit_limit</th>\n",
       "    </tr>\n",
       "  </thead>\n",
       "  <tbody>\n",
       "    <tr>\n",
       "      <th>0</th>\n",
       "      <td>3600.0</td>\n",
       "      <td>3600.0</td>\n",
       "      <td>3600.0</td>\n",
       "      <td>36 months</td>\n",
       "      <td>7.49</td>\n",
       "      <td>111.97</td>\n",
       "      <td>A</td>\n",
       "      <td>A4</td>\n",
       "      <td>Code/Compliance Inspector</td>\n",
       "      <td>10+ years</td>\n",
       "      <td>...</td>\n",
       "      <td>0.0</td>\n",
       "      <td>6.0</td>\n",
       "      <td>100.0</td>\n",
       "      <td>0.0</td>\n",
       "      <td>1.0</td>\n",
       "      <td>0.0</td>\n",
       "      <td>93599.0</td>\n",
       "      <td>36506.0</td>\n",
       "      <td>9000.0</td>\n",
       "      <td>55699.0</td>\n",
       "    </tr>\n",
       "    <tr>\n",
       "      <th>1</th>\n",
       "      <td>15000.0</td>\n",
       "      <td>15000.0</td>\n",
       "      <td>15000.0</td>\n",
       "      <td>60 months</td>\n",
       "      <td>14.99</td>\n",
       "      <td>356.78</td>\n",
       "      <td>C</td>\n",
       "      <td>C4</td>\n",
       "      <td>Senior Superintendent</td>\n",
       "      <td>10+ years</td>\n",
       "      <td>...</td>\n",
       "      <td>0.0</td>\n",
       "      <td>0.0</td>\n",
       "      <td>100.0</td>\n",
       "      <td>66.7</td>\n",
       "      <td>0.0</td>\n",
       "      <td>0.0</td>\n",
       "      <td>148572.0</td>\n",
       "      <td>69364.0</td>\n",
       "      <td>60300.0</td>\n",
       "      <td>30224.0</td>\n",
       "    </tr>\n",
       "    <tr>\n",
       "      <th>2</th>\n",
       "      <td>8400.0</td>\n",
       "      <td>8400.0</td>\n",
       "      <td>8400.0</td>\n",
       "      <td>36 months</td>\n",
       "      <td>11.39</td>\n",
       "      <td>276.56</td>\n",
       "      <td>B</td>\n",
       "      <td>B3</td>\n",
       "      <td>IT Tech</td>\n",
       "      <td>8 years</td>\n",
       "      <td>...</td>\n",
       "      <td>0.0</td>\n",
       "      <td>5.0</td>\n",
       "      <td>100.0</td>\n",
       "      <td>14.3</td>\n",
       "      <td>0.0</td>\n",
       "      <td>0.0</td>\n",
       "      <td>205671.0</td>\n",
       "      <td>51591.0</td>\n",
       "      <td>36100.0</td>\n",
       "      <td>36876.0</td>\n",
       "    </tr>\n",
       "    <tr>\n",
       "      <th>3</th>\n",
       "      <td>4000.0</td>\n",
       "      <td>4000.0</td>\n",
       "      <td>4000.0</td>\n",
       "      <td>36 months</td>\n",
       "      <td>10.49</td>\n",
       "      <td>130.00</td>\n",
       "      <td>B</td>\n",
       "      <td>B2</td>\n",
       "      <td>Dental hygienist</td>\n",
       "      <td>2 years</td>\n",
       "      <td>...</td>\n",
       "      <td>0.0</td>\n",
       "      <td>1.0</td>\n",
       "      <td>87.5</td>\n",
       "      <td>100.0</td>\n",
       "      <td>0.0</td>\n",
       "      <td>0.0</td>\n",
       "      <td>152852.0</td>\n",
       "      <td>136208.0</td>\n",
       "      <td>2500.0</td>\n",
       "      <td>139652.0</td>\n",
       "    </tr>\n",
       "    <tr>\n",
       "      <th>4</th>\n",
       "      <td>6000.0</td>\n",
       "      <td>6000.0</td>\n",
       "      <td>6000.0</td>\n",
       "      <td>36 months</td>\n",
       "      <td>7.24</td>\n",
       "      <td>185.93</td>\n",
       "      <td>A</td>\n",
       "      <td>A3</td>\n",
       "      <td>Program Manager</td>\n",
       "      <td>3 years</td>\n",
       "      <td>...</td>\n",
       "      <td>0.0</td>\n",
       "      <td>3.0</td>\n",
       "      <td>59.1</td>\n",
       "      <td>20.0</td>\n",
       "      <td>0.0</td>\n",
       "      <td>0.0</td>\n",
       "      <td>72865.0</td>\n",
       "      <td>60622.0</td>\n",
       "      <td>23200.0</td>\n",
       "      <td>49665.0</td>\n",
       "    </tr>\n",
       "  </tbody>\n",
       "</table>\n",
       "<p>5 rows × 96 columns</p>\n",
       "</div>"
      ],
      "text/plain": [
       "   loan_amnt  funded_amnt  funded_amnt_inv        term  int_rate  installment  \\\n",
       "0     3600.0       3600.0           3600.0   36 months      7.49       111.97   \n",
       "1    15000.0      15000.0          15000.0   60 months     14.99       356.78   \n",
       "2     8400.0       8400.0           8400.0   36 months     11.39       276.56   \n",
       "3     4000.0       4000.0           4000.0   36 months     10.49       130.00   \n",
       "4     6000.0       6000.0           6000.0   36 months      7.24       185.93   \n",
       "\n",
       "  grade sub_grade                  emp_title emp_length  \\\n",
       "0     A        A4  Code/Compliance Inspector  10+ years   \n",
       "1     C        C4      Senior Superintendent  10+ years   \n",
       "2     B        B3                    IT Tech    8 years   \n",
       "3     B        B2           Dental hygienist    2 years   \n",
       "4     A        A3            Program Manager    3 years   \n",
       "\n",
       "             ...             num_tl_90g_dpd_24m  num_tl_op_past_12m  \\\n",
       "0            ...                            0.0                 6.0   \n",
       "1            ...                            0.0                 0.0   \n",
       "2            ...                            0.0                 5.0   \n",
       "3            ...                            0.0                 1.0   \n",
       "4            ...                            0.0                 3.0   \n",
       "\n",
       "  pct_tl_nvr_dlq percent_bc_gt_75 pub_rec_bankruptcies tax_liens  \\\n",
       "0          100.0              0.0                  1.0       0.0   \n",
       "1          100.0             66.7                  0.0       0.0   \n",
       "2          100.0             14.3                  0.0       0.0   \n",
       "3           87.5            100.0                  0.0       0.0   \n",
       "4           59.1             20.0                  0.0       0.0   \n",
       "\n",
       "  tot_hi_cred_lim total_bal_ex_mort total_bc_limit total_il_high_credit_limit  \n",
       "0         93599.0           36506.0         9000.0                    55699.0  \n",
       "1        148572.0           69364.0        60300.0                    30224.0  \n",
       "2        205671.0           51591.0        36100.0                    36876.0  \n",
       "3        152852.0          136208.0         2500.0                   139652.0  \n",
       "4         72865.0           60622.0        23200.0                    49665.0  \n",
       "\n",
       "[5 rows x 96 columns]"
      ]
     },
     "execution_count": 100,
     "metadata": {},
     "output_type": "execute_result"
    }
   ],
   "source": [
    "q117 = pd.DataFrame.from_csv('data/LoanStats_2017Q1.csv', index_col=None, header=1)\n",
    "\n",
    "# Drop columns where more than 90% of entries are NaN\n",
    "q117 = q117.dropna(axis=1, thresh=96781*.9)\n",
    "\n",
    "# Convert int_rate column from strings to floats\n",
    "q117.int_rate = q117.int_rate.str.strip('%')\n",
    "q117.int_rate = q117.int_rate.astype(float)\n",
    "\n",
    "# Drop all rows where int_rate is NaN\n",
    "q117 = q117.dropna(axis=0, how='any')\n",
    "\n",
    "# Convert revol_util column from strings to floats\n",
    "q117.revol_util = q117.revol_util.str.strip('%')\n",
    "q117.revol_util = q117.revol_util.astype(float)\n",
    "\n",
    "q117.head()"
   ]
  },
  {
   "cell_type": "code",
   "execution_count": 18,
   "metadata": {
    "collapsed": false
   },
   "outputs": [
    {
     "data": {
      "text/html": [
       "<div>\n",
       "<table border=\"1\" class=\"dataframe\">\n",
       "  <thead>\n",
       "    <tr style=\"text-align: right;\">\n",
       "      <th></th>\n",
       "      <th>loan_amnt</th>\n",
       "      <th>funded_amnt</th>\n",
       "      <th>funded_amnt_inv</th>\n",
       "      <th>term</th>\n",
       "      <th>int_rate</th>\n",
       "      <th>installment</th>\n",
       "      <th>grade</th>\n",
       "      <th>sub_grade</th>\n",
       "      <th>emp_title</th>\n",
       "      <th>emp_length</th>\n",
       "    </tr>\n",
       "  </thead>\n",
       "  <tbody>\n",
       "    <tr>\n",
       "      <th>0</th>\n",
       "      <td>3600.0</td>\n",
       "      <td>3600.0</td>\n",
       "      <td>3600.0</td>\n",
       "      <td>36 months</td>\n",
       "      <td>7.49%</td>\n",
       "      <td>111.97</td>\n",
       "      <td>A</td>\n",
       "      <td>A4</td>\n",
       "      <td>Code/Compliance Inspector</td>\n",
       "      <td>10+ years</td>\n",
       "    </tr>\n",
       "    <tr>\n",
       "      <th>1</th>\n",
       "      <td>15000.0</td>\n",
       "      <td>15000.0</td>\n",
       "      <td>15000.0</td>\n",
       "      <td>60 months</td>\n",
       "      <td>14.99%</td>\n",
       "      <td>356.78</td>\n",
       "      <td>C</td>\n",
       "      <td>C4</td>\n",
       "      <td>Senior Superintendent</td>\n",
       "      <td>10+ years</td>\n",
       "    </tr>\n",
       "    <tr>\n",
       "      <th>2</th>\n",
       "      <td>8400.0</td>\n",
       "      <td>8400.0</td>\n",
       "      <td>8400.0</td>\n",
       "      <td>36 months</td>\n",
       "      <td>11.39%</td>\n",
       "      <td>276.56</td>\n",
       "      <td>B</td>\n",
       "      <td>B3</td>\n",
       "      <td>IT Tech</td>\n",
       "      <td>8 years</td>\n",
       "    </tr>\n",
       "    <tr>\n",
       "      <th>3</th>\n",
       "      <td>4000.0</td>\n",
       "      <td>4000.0</td>\n",
       "      <td>4000.0</td>\n",
       "      <td>36 months</td>\n",
       "      <td>10.49%</td>\n",
       "      <td>130.00</td>\n",
       "      <td>B</td>\n",
       "      <td>B2</td>\n",
       "      <td>Dental hygienist</td>\n",
       "      <td>2 years</td>\n",
       "    </tr>\n",
       "    <tr>\n",
       "      <th>4</th>\n",
       "      <td>6000.0</td>\n",
       "      <td>6000.0</td>\n",
       "      <td>6000.0</td>\n",
       "      <td>36 months</td>\n",
       "      <td>7.24%</td>\n",
       "      <td>185.93</td>\n",
       "      <td>A</td>\n",
       "      <td>A3</td>\n",
       "      <td>Program Manager</td>\n",
       "      <td>3 years</td>\n",
       "    </tr>\n",
       "  </tbody>\n",
       "</table>\n",
       "</div>"
      ],
      "text/plain": [
       "   loan_amnt  funded_amnt  funded_amnt_inv        term int_rate  installment  \\\n",
       "0     3600.0       3600.0           3600.0   36 months    7.49%       111.97   \n",
       "1    15000.0      15000.0          15000.0   60 months   14.99%       356.78   \n",
       "2     8400.0       8400.0           8400.0   36 months   11.39%       276.56   \n",
       "3     4000.0       4000.0           4000.0   36 months   10.49%       130.00   \n",
       "4     6000.0       6000.0           6000.0   36 months    7.24%       185.93   \n",
       "\n",
       "  grade sub_grade                  emp_title emp_length  \n",
       "0     A        A4  Code/Compliance Inspector  10+ years  \n",
       "1     C        C4      Senior Superintendent  10+ years  \n",
       "2     B        B3                    IT Tech    8 years  \n",
       "3     B        B2           Dental hygienist    2 years  \n",
       "4     A        A3            Program Manager    3 years  "
      ]
     },
     "execution_count": 18,
     "metadata": {},
     "output_type": "execute_result"
    }
   ],
   "source": [
    "q117.iloc[:, :10].head()"
   ]
  },
  {
   "cell_type": "code",
   "execution_count": 20,
   "metadata": {
    "collapsed": false
   },
   "outputs": [
    {
     "data": {
      "text/html": [
       "<div>\n",
       "<table border=\"1\" class=\"dataframe\">\n",
       "  <thead>\n",
       "    <tr style=\"text-align: right;\">\n",
       "      <th></th>\n",
       "      <th>home_ownership</th>\n",
       "      <th>annual_inc</th>\n",
       "      <th>verification_status</th>\n",
       "      <th>issue_d</th>\n",
       "      <th>loan_status</th>\n",
       "      <th>pymnt_plan</th>\n",
       "      <th>purpose</th>\n",
       "      <th>title</th>\n",
       "      <th>zip_code</th>\n",
       "      <th>addr_state</th>\n",
       "    </tr>\n",
       "  </thead>\n",
       "  <tbody>\n",
       "    <tr>\n",
       "      <th>0</th>\n",
       "      <td>MORTGAGE</td>\n",
       "      <td>120000.0</td>\n",
       "      <td>Not Verified</td>\n",
       "      <td>Mar-2017</td>\n",
       "      <td>Issued</td>\n",
       "      <td>n</td>\n",
       "      <td>other</td>\n",
       "      <td>Other</td>\n",
       "      <td>467xx</td>\n",
       "      <td>IN</td>\n",
       "    </tr>\n",
       "    <tr>\n",
       "      <th>1</th>\n",
       "      <td>MORTGAGE</td>\n",
       "      <td>125000.0</td>\n",
       "      <td>Not Verified</td>\n",
       "      <td>Mar-2017</td>\n",
       "      <td>Issued</td>\n",
       "      <td>n</td>\n",
       "      <td>other</td>\n",
       "      <td>Other</td>\n",
       "      <td>064xx</td>\n",
       "      <td>CT</td>\n",
       "    </tr>\n",
       "    <tr>\n",
       "      <th>2</th>\n",
       "      <td>MORTGAGE</td>\n",
       "      <td>50000.0</td>\n",
       "      <td>Source Verified</td>\n",
       "      <td>Mar-2017</td>\n",
       "      <td>Issued</td>\n",
       "      <td>n</td>\n",
       "      <td>other</td>\n",
       "      <td>Other</td>\n",
       "      <td>454xx</td>\n",
       "      <td>OH</td>\n",
       "    </tr>\n",
       "    <tr>\n",
       "      <th>3</th>\n",
       "      <td>RENT</td>\n",
       "      <td>50000.0</td>\n",
       "      <td>Source Verified</td>\n",
       "      <td>Mar-2017</td>\n",
       "      <td>Issued</td>\n",
       "      <td>n</td>\n",
       "      <td>major_purchase</td>\n",
       "      <td>Major purchase</td>\n",
       "      <td>768xx</td>\n",
       "      <td>TX</td>\n",
       "    </tr>\n",
       "    <tr>\n",
       "      <th>4</th>\n",
       "      <td>RENT</td>\n",
       "      <td>125000.0</td>\n",
       "      <td>Source Verified</td>\n",
       "      <td>Mar-2017</td>\n",
       "      <td>Current</td>\n",
       "      <td>n</td>\n",
       "      <td>credit_card</td>\n",
       "      <td>Credit card refinancing</td>\n",
       "      <td>981xx</td>\n",
       "      <td>WA</td>\n",
       "    </tr>\n",
       "  </tbody>\n",
       "</table>\n",
       "</div>"
      ],
      "text/plain": [
       "  home_ownership  annual_inc verification_status   issue_d loan_status  \\\n",
       "0       MORTGAGE    120000.0        Not Verified  Mar-2017      Issued   \n",
       "1       MORTGAGE    125000.0        Not Verified  Mar-2017      Issued   \n",
       "2       MORTGAGE     50000.0     Source Verified  Mar-2017      Issued   \n",
       "3           RENT     50000.0     Source Verified  Mar-2017      Issued   \n",
       "4           RENT    125000.0     Source Verified  Mar-2017     Current   \n",
       "\n",
       "  pymnt_plan         purpose                    title zip_code addr_state  \n",
       "0          n           other                    Other    467xx         IN  \n",
       "1          n           other                    Other    064xx         CT  \n",
       "2          n           other                    Other    454xx         OH  \n",
       "3          n  major_purchase           Major purchase    768xx         TX  \n",
       "4          n     credit_card  Credit card refinancing    981xx         WA  "
      ]
     },
     "execution_count": 20,
     "metadata": {},
     "output_type": "execute_result"
    }
   ],
   "source": [
    "q117.iloc[:, 10:20].head()"
   ]
  },
  {
   "cell_type": "code",
   "execution_count": 22,
   "metadata": {
    "collapsed": false
   },
   "outputs": [
    {
     "data": {
      "text/html": [
       "<div>\n",
       "<table border=\"1\" class=\"dataframe\">\n",
       "  <thead>\n",
       "    <tr style=\"text-align: right;\">\n",
       "      <th></th>\n",
       "      <th>dti</th>\n",
       "      <th>delinq_2yrs</th>\n",
       "      <th>earliest_cr_line</th>\n",
       "      <th>inq_last_6mths</th>\n",
       "      <th>open_acc</th>\n",
       "      <th>pub_rec</th>\n",
       "      <th>revol_bal</th>\n",
       "      <th>revol_util</th>\n",
       "      <th>total_acc</th>\n",
       "      <th>initial_list_status</th>\n",
       "    </tr>\n",
       "  </thead>\n",
       "  <tbody>\n",
       "    <tr>\n",
       "      <th>0</th>\n",
       "      <td>18.90</td>\n",
       "      <td>0.0</td>\n",
       "      <td>Aug-1992</td>\n",
       "      <td>1.0</td>\n",
       "      <td>18.0</td>\n",
       "      <td>1.0</td>\n",
       "      <td>5658.0</td>\n",
       "      <td>14.9%</td>\n",
       "      <td>33.0</td>\n",
       "      <td>w</td>\n",
       "    </tr>\n",
       "    <tr>\n",
       "      <th>1</th>\n",
       "      <td>17.25</td>\n",
       "      <td>0.0</td>\n",
       "      <td>Sep-1989</td>\n",
       "      <td>0.0</td>\n",
       "      <td>11.0</td>\n",
       "      <td>0.0</td>\n",
       "      <td>53167.0</td>\n",
       "      <td>75.3%</td>\n",
       "      <td>18.0</td>\n",
       "      <td>w</td>\n",
       "    </tr>\n",
       "    <tr>\n",
       "      <th>2</th>\n",
       "      <td>15.63</td>\n",
       "      <td>0.0</td>\n",
       "      <td>Apr-2005</td>\n",
       "      <td>0.0</td>\n",
       "      <td>14.0</td>\n",
       "      <td>0.0</td>\n",
       "      <td>12831.0</td>\n",
       "      <td>30.3%</td>\n",
       "      <td>30.0</td>\n",
       "      <td>w</td>\n",
       "    </tr>\n",
       "    <tr>\n",
       "      <th>3</th>\n",
       "      <td>33.61</td>\n",
       "      <td>1.0</td>\n",
       "      <td>Apr-2003</td>\n",
       "      <td>0.0</td>\n",
       "      <td>10.0</td>\n",
       "      <td>1.0</td>\n",
       "      <td>4388.0</td>\n",
       "      <td>33.2%</td>\n",
       "      <td>33.0</td>\n",
       "      <td>w</td>\n",
       "    </tr>\n",
       "    <tr>\n",
       "      <th>4</th>\n",
       "      <td>9.25</td>\n",
       "      <td>0.0</td>\n",
       "      <td>Jul-2004</td>\n",
       "      <td>1.0</td>\n",
       "      <td>16.0</td>\n",
       "      <td>0.0</td>\n",
       "      <td>9571.0</td>\n",
       "      <td>41.3%</td>\n",
       "      <td>27.0</td>\n",
       "      <td>w</td>\n",
       "    </tr>\n",
       "  </tbody>\n",
       "</table>\n",
       "</div>"
      ],
      "text/plain": [
       "     dti  delinq_2yrs earliest_cr_line  inq_last_6mths  open_acc  pub_rec  \\\n",
       "0  18.90          0.0         Aug-1992             1.0      18.0      1.0   \n",
       "1  17.25          0.0         Sep-1989             0.0      11.0      0.0   \n",
       "2  15.63          0.0         Apr-2005             0.0      14.0      0.0   \n",
       "3  33.61          1.0         Apr-2003             0.0      10.0      1.0   \n",
       "4   9.25          0.0         Jul-2004             1.0      16.0      0.0   \n",
       "\n",
       "   revol_bal revol_util  total_acc initial_list_status  \n",
       "0     5658.0      14.9%       33.0                   w  \n",
       "1    53167.0      75.3%       18.0                   w  \n",
       "2    12831.0      30.3%       30.0                   w  \n",
       "3     4388.0      33.2%       33.0                   w  \n",
       "4     9571.0      41.3%       27.0                   w  "
      ]
     },
     "execution_count": 22,
     "metadata": {},
     "output_type": "execute_result"
    }
   ],
   "source": [
    "q117.iloc[:, 20:30].head()"
   ]
  },
  {
   "cell_type": "code",
   "execution_count": 23,
   "metadata": {
    "collapsed": false
   },
   "outputs": [
    {
     "data": {
      "text/html": [
       "<div>\n",
       "<table border=\"1\" class=\"dataframe\">\n",
       "  <thead>\n",
       "    <tr style=\"text-align: right;\">\n",
       "      <th></th>\n",
       "      <th>out_prncp</th>\n",
       "      <th>out_prncp_inv</th>\n",
       "      <th>total_pymnt</th>\n",
       "      <th>total_pymnt_inv</th>\n",
       "      <th>total_rec_prncp</th>\n",
       "      <th>total_rec_int</th>\n",
       "      <th>total_rec_late_fee</th>\n",
       "      <th>recoveries</th>\n",
       "      <th>collection_recovery_fee</th>\n",
       "      <th>last_pymnt_amnt</th>\n",
       "    </tr>\n",
       "  </thead>\n",
       "  <tbody>\n",
       "    <tr>\n",
       "      <th>0</th>\n",
       "      <td>3600.00</td>\n",
       "      <td>3600.00</td>\n",
       "      <td>0.00</td>\n",
       "      <td>0.00</td>\n",
       "      <td>0.00</td>\n",
       "      <td>0.00</td>\n",
       "      <td>0.0</td>\n",
       "      <td>0.0</td>\n",
       "      <td>0.0</td>\n",
       "      <td>0.00</td>\n",
       "    </tr>\n",
       "    <tr>\n",
       "      <th>1</th>\n",
       "      <td>15000.00</td>\n",
       "      <td>15000.00</td>\n",
       "      <td>0.00</td>\n",
       "      <td>0.00</td>\n",
       "      <td>0.00</td>\n",
       "      <td>0.00</td>\n",
       "      <td>0.0</td>\n",
       "      <td>0.0</td>\n",
       "      <td>0.0</td>\n",
       "      <td>0.00</td>\n",
       "    </tr>\n",
       "    <tr>\n",
       "      <th>2</th>\n",
       "      <td>8400.00</td>\n",
       "      <td>8400.00</td>\n",
       "      <td>0.00</td>\n",
       "      <td>0.00</td>\n",
       "      <td>0.00</td>\n",
       "      <td>0.00</td>\n",
       "      <td>0.0</td>\n",
       "      <td>0.0</td>\n",
       "      <td>0.0</td>\n",
       "      <td>0.00</td>\n",
       "    </tr>\n",
       "    <tr>\n",
       "      <th>3</th>\n",
       "      <td>4000.00</td>\n",
       "      <td>4000.00</td>\n",
       "      <td>0.00</td>\n",
       "      <td>0.00</td>\n",
       "      <td>0.00</td>\n",
       "      <td>0.00</td>\n",
       "      <td>0.0</td>\n",
       "      <td>0.0</td>\n",
       "      <td>0.0</td>\n",
       "      <td>0.00</td>\n",
       "    </tr>\n",
       "    <tr>\n",
       "      <th>4</th>\n",
       "      <td>5850.27</td>\n",
       "      <td>5850.27</td>\n",
       "      <td>164.21</td>\n",
       "      <td>164.21</td>\n",
       "      <td>149.73</td>\n",
       "      <td>14.48</td>\n",
       "      <td>0.0</td>\n",
       "      <td>0.0</td>\n",
       "      <td>0.0</td>\n",
       "      <td>169.04</td>\n",
       "    </tr>\n",
       "  </tbody>\n",
       "</table>\n",
       "</div>"
      ],
      "text/plain": [
       "   out_prncp  out_prncp_inv  total_pymnt  total_pymnt_inv  total_rec_prncp  \\\n",
       "0    3600.00        3600.00         0.00             0.00             0.00   \n",
       "1   15000.00       15000.00         0.00             0.00             0.00   \n",
       "2    8400.00        8400.00         0.00             0.00             0.00   \n",
       "3    4000.00        4000.00         0.00             0.00             0.00   \n",
       "4    5850.27        5850.27       164.21           164.21           149.73   \n",
       "\n",
       "   total_rec_int  total_rec_late_fee  recoveries  collection_recovery_fee  \\\n",
       "0           0.00                 0.0         0.0                      0.0   \n",
       "1           0.00                 0.0         0.0                      0.0   \n",
       "2           0.00                 0.0         0.0                      0.0   \n",
       "3           0.00                 0.0         0.0                      0.0   \n",
       "4          14.48                 0.0         0.0                      0.0   \n",
       "\n",
       "   last_pymnt_amnt  \n",
       "0             0.00  \n",
       "1             0.00  \n",
       "2             0.00  \n",
       "3             0.00  \n",
       "4           169.04  "
      ]
     },
     "execution_count": 23,
     "metadata": {},
     "output_type": "execute_result"
    }
   ],
   "source": [
    "q117.iloc[:, 30:40].head()"
   ]
  },
  {
   "cell_type": "code",
   "execution_count": 24,
   "metadata": {
    "collapsed": false
   },
   "outputs": [
    {
     "data": {
      "text/html": [
       "<div>\n",
       "<table border=\"1\" class=\"dataframe\">\n",
       "  <thead>\n",
       "    <tr style=\"text-align: right;\">\n",
       "      <th></th>\n",
       "      <th>next_pymnt_d</th>\n",
       "      <th>last_credit_pull_d</th>\n",
       "      <th>collections_12_mths_ex_med</th>\n",
       "      <th>policy_code</th>\n",
       "      <th>application_type</th>\n",
       "      <th>acc_now_delinq</th>\n",
       "      <th>tot_coll_amt</th>\n",
       "      <th>tot_cur_bal</th>\n",
       "      <th>open_acc_6m</th>\n",
       "      <th>open_il_6m</th>\n",
       "    </tr>\n",
       "  </thead>\n",
       "  <tbody>\n",
       "    <tr>\n",
       "      <th>0</th>\n",
       "      <td>Apr-2017</td>\n",
       "      <td>Apr-2017</td>\n",
       "      <td>0.0</td>\n",
       "      <td>1.0</td>\n",
       "      <td>INDIVIDUAL</td>\n",
       "      <td>0.0</td>\n",
       "      <td>0.0</td>\n",
       "      <td>36506.0</td>\n",
       "      <td>2.0</td>\n",
       "      <td>6.0</td>\n",
       "    </tr>\n",
       "    <tr>\n",
       "      <th>1</th>\n",
       "      <td>Apr-2017</td>\n",
       "      <td>Apr-2017</td>\n",
       "      <td>0.0</td>\n",
       "      <td>1.0</td>\n",
       "      <td>INDIVIDUAL</td>\n",
       "      <td>0.0</td>\n",
       "      <td>0.0</td>\n",
       "      <td>90423.0</td>\n",
       "      <td>0.0</td>\n",
       "      <td>2.0</td>\n",
       "    </tr>\n",
       "    <tr>\n",
       "      <th>2</th>\n",
       "      <td>Apr-2017</td>\n",
       "      <td>Apr-2017</td>\n",
       "      <td>0.0</td>\n",
       "      <td>1.0</td>\n",
       "      <td>INDIVIDUAL</td>\n",
       "      <td>0.0</td>\n",
       "      <td>271.0</td>\n",
       "      <td>161061.0</td>\n",
       "      <td>3.0</td>\n",
       "      <td>2.0</td>\n",
       "    </tr>\n",
       "    <tr>\n",
       "      <th>3</th>\n",
       "      <td>Apr-2017</td>\n",
       "      <td>Apr-2017</td>\n",
       "      <td>0.0</td>\n",
       "      <td>1.0</td>\n",
       "      <td>INDIVIDUAL</td>\n",
       "      <td>0.0</td>\n",
       "      <td>0.0</td>\n",
       "      <td>136208.0</td>\n",
       "      <td>0.0</td>\n",
       "      <td>4.0</td>\n",
       "    </tr>\n",
       "    <tr>\n",
       "      <th>4</th>\n",
       "      <td>May-2017</td>\n",
       "      <td>Apr-2017</td>\n",
       "      <td>0.0</td>\n",
       "      <td>1.0</td>\n",
       "      <td>INDIVIDUAL</td>\n",
       "      <td>0.0</td>\n",
       "      <td>0.0</td>\n",
       "      <td>60622.0</td>\n",
       "      <td>1.0</td>\n",
       "      <td>11.0</td>\n",
       "    </tr>\n",
       "  </tbody>\n",
       "</table>\n",
       "</div>"
      ],
      "text/plain": [
       "  next_pymnt_d last_credit_pull_d  collections_12_mths_ex_med  policy_code  \\\n",
       "0     Apr-2017           Apr-2017                         0.0          1.0   \n",
       "1     Apr-2017           Apr-2017                         0.0          1.0   \n",
       "2     Apr-2017           Apr-2017                         0.0          1.0   \n",
       "3     Apr-2017           Apr-2017                         0.0          1.0   \n",
       "4     May-2017           Apr-2017                         0.0          1.0   \n",
       "\n",
       "  application_type  acc_now_delinq  tot_coll_amt  tot_cur_bal  open_acc_6m  \\\n",
       "0       INDIVIDUAL             0.0           0.0      36506.0          2.0   \n",
       "1       INDIVIDUAL             0.0           0.0      90423.0          0.0   \n",
       "2       INDIVIDUAL             0.0         271.0     161061.0          3.0   \n",
       "3       INDIVIDUAL             0.0           0.0     136208.0          0.0   \n",
       "4       INDIVIDUAL             0.0           0.0      60622.0          1.0   \n",
       "\n",
       "   open_il_6m  \n",
       "0         6.0  \n",
       "1         2.0  \n",
       "2         2.0  \n",
       "3         4.0  \n",
       "4        11.0  "
      ]
     },
     "execution_count": 24,
     "metadata": {},
     "output_type": "execute_result"
    }
   ],
   "source": [
    "q117.iloc[:, 40:50].head()"
   ]
  },
  {
   "cell_type": "code",
   "execution_count": 25,
   "metadata": {
    "collapsed": false
   },
   "outputs": [
    {
     "data": {
      "text/html": [
       "<div>\n",
       "<table border=\"1\" class=\"dataframe\">\n",
       "  <thead>\n",
       "    <tr style=\"text-align: right;\">\n",
       "      <th></th>\n",
       "      <th>open_il_12m</th>\n",
       "      <th>open_il_24m</th>\n",
       "      <th>mths_since_rcnt_il</th>\n",
       "      <th>total_bal_il</th>\n",
       "      <th>open_rv_12m</th>\n",
       "      <th>open_rv_24m</th>\n",
       "      <th>max_bal_bc</th>\n",
       "      <th>all_util</th>\n",
       "      <th>total_rev_hi_lim</th>\n",
       "      <th>inq_fi</th>\n",
       "    </tr>\n",
       "  </thead>\n",
       "  <tbody>\n",
       "    <tr>\n",
       "      <th>0</th>\n",
       "      <td>2.0</td>\n",
       "      <td>6.0</td>\n",
       "      <td>2.0</td>\n",
       "      <td>30848.0</td>\n",
       "      <td>4.0</td>\n",
       "      <td>7.0</td>\n",
       "      <td>1020.0</td>\n",
       "      <td>39.0</td>\n",
       "      <td>37900.0</td>\n",
       "      <td>3.0</td>\n",
       "    </tr>\n",
       "    <tr>\n",
       "      <th>1</th>\n",
       "      <td>0.0</td>\n",
       "      <td>1.0</td>\n",
       "      <td>22.0</td>\n",
       "      <td>16197.0</td>\n",
       "      <td>0.0</td>\n",
       "      <td>3.0</td>\n",
       "      <td>15199.0</td>\n",
       "      <td>69.0</td>\n",
       "      <td>70600.0</td>\n",
       "      <td>1.0</td>\n",
       "    </tr>\n",
       "    <tr>\n",
       "      <th>2</th>\n",
       "      <td>1.0</td>\n",
       "      <td>2.0</td>\n",
       "      <td>10.0</td>\n",
       "      <td>38760.0</td>\n",
       "      <td>4.0</td>\n",
       "      <td>8.0</td>\n",
       "      <td>5338.0</td>\n",
       "      <td>65.0</td>\n",
       "      <td>42300.0</td>\n",
       "      <td>4.0</td>\n",
       "    </tr>\n",
       "    <tr>\n",
       "      <th>3</th>\n",
       "      <td>1.0</td>\n",
       "      <td>2.0</td>\n",
       "      <td>7.0</td>\n",
       "      <td>131820.0</td>\n",
       "      <td>0.0</td>\n",
       "      <td>4.0</td>\n",
       "      <td>2461.0</td>\n",
       "      <td>56.0</td>\n",
       "      <td>13200.0</td>\n",
       "      <td>0.0</td>\n",
       "    </tr>\n",
       "    <tr>\n",
       "      <th>4</th>\n",
       "      <td>2.0</td>\n",
       "      <td>2.0</td>\n",
       "      <td>3.0</td>\n",
       "      <td>51051.0</td>\n",
       "      <td>1.0</td>\n",
       "      <td>2.0</td>\n",
       "      <td>6129.0</td>\n",
       "      <td>83.0</td>\n",
       "      <td>23200.0</td>\n",
       "      <td>1.0</td>\n",
       "    </tr>\n",
       "  </tbody>\n",
       "</table>\n",
       "</div>"
      ],
      "text/plain": [
       "   open_il_12m  open_il_24m  mths_since_rcnt_il  total_bal_il  open_rv_12m  \\\n",
       "0          2.0          6.0                 2.0       30848.0          4.0   \n",
       "1          0.0          1.0                22.0       16197.0          0.0   \n",
       "2          1.0          2.0                10.0       38760.0          4.0   \n",
       "3          1.0          2.0                 7.0      131820.0          0.0   \n",
       "4          2.0          2.0                 3.0       51051.0          1.0   \n",
       "\n",
       "   open_rv_24m  max_bal_bc  all_util  total_rev_hi_lim  inq_fi  \n",
       "0          7.0      1020.0      39.0           37900.0     3.0  \n",
       "1          3.0     15199.0      69.0           70600.0     1.0  \n",
       "2          8.0      5338.0      65.0           42300.0     4.0  \n",
       "3          4.0      2461.0      56.0           13200.0     0.0  \n",
       "4          2.0      6129.0      83.0           23200.0     1.0  "
      ]
     },
     "execution_count": 25,
     "metadata": {},
     "output_type": "execute_result"
    }
   ],
   "source": [
    "q117.iloc[:, 50:60].head()"
   ]
  },
  {
   "cell_type": "code",
   "execution_count": 26,
   "metadata": {
    "collapsed": false
   },
   "outputs": [
    {
     "data": {
      "text/html": [
       "<div>\n",
       "<table border=\"1\" class=\"dataframe\">\n",
       "  <thead>\n",
       "    <tr style=\"text-align: right;\">\n",
       "      <th></th>\n",
       "      <th>total_cu_tl</th>\n",
       "      <th>inq_last_12m</th>\n",
       "      <th>acc_open_past_24mths</th>\n",
       "      <th>avg_cur_bal</th>\n",
       "      <th>bc_open_to_buy</th>\n",
       "      <th>bc_util</th>\n",
       "      <th>chargeoff_within_12_mths</th>\n",
       "      <th>delinq_amnt</th>\n",
       "      <th>mo_sin_old_il_acct</th>\n",
       "      <th>mo_sin_old_rev_tl_op</th>\n",
       "    </tr>\n",
       "  </thead>\n",
       "  <tbody>\n",
       "    <tr>\n",
       "      <th>0</th>\n",
       "      <td>1.0</td>\n",
       "      <td>4.0</td>\n",
       "      <td>13.0</td>\n",
       "      <td>2147.0</td>\n",
       "      <td>7980.0</td>\n",
       "      <td>11.3</td>\n",
       "      <td>0.0</td>\n",
       "      <td>0.0</td>\n",
       "      <td>166.0</td>\n",
       "      <td>295.0</td>\n",
       "    </tr>\n",
       "    <tr>\n",
       "      <th>1</th>\n",
       "      <td>0.0</td>\n",
       "      <td>0.0</td>\n",
       "      <td>4.0</td>\n",
       "      <td>8220.0</td>\n",
       "      <td>13968.0</td>\n",
       "      <td>76.8</td>\n",
       "      <td>0.0</td>\n",
       "      <td>0.0</td>\n",
       "      <td>158.0</td>\n",
       "      <td>245.0</td>\n",
       "    </tr>\n",
       "    <tr>\n",
       "      <th>2</th>\n",
       "      <td>1.0</td>\n",
       "      <td>7.0</td>\n",
       "      <td>10.0</td>\n",
       "      <td>12389.0</td>\n",
       "      <td>24145.0</td>\n",
       "      <td>33.1</td>\n",
       "      <td>0.0</td>\n",
       "      <td>0.0</td>\n",
       "      <td>131.0</td>\n",
       "      <td>143.0</td>\n",
       "    </tr>\n",
       "    <tr>\n",
       "      <th>3</th>\n",
       "      <td>0.0</td>\n",
       "      <td>1.0</td>\n",
       "      <td>6.0</td>\n",
       "      <td>13621.0</td>\n",
       "      <td>39.0</td>\n",
       "      <td>98.4</td>\n",
       "      <td>0.0</td>\n",
       "      <td>0.0</td>\n",
       "      <td>148.0</td>\n",
       "      <td>163.0</td>\n",
       "    </tr>\n",
       "    <tr>\n",
       "      <th>4</th>\n",
       "      <td>1.0</td>\n",
       "      <td>1.0</td>\n",
       "      <td>4.0</td>\n",
       "      <td>3789.0</td>\n",
       "      <td>13629.0</td>\n",
       "      <td>41.3</td>\n",
       "      <td>0.0</td>\n",
       "      <td>0.0</td>\n",
       "      <td>152.0</td>\n",
       "      <td>149.0</td>\n",
       "    </tr>\n",
       "  </tbody>\n",
       "</table>\n",
       "</div>"
      ],
      "text/plain": [
       "   total_cu_tl  inq_last_12m  acc_open_past_24mths  avg_cur_bal  \\\n",
       "0          1.0           4.0                  13.0       2147.0   \n",
       "1          0.0           0.0                   4.0       8220.0   \n",
       "2          1.0           7.0                  10.0      12389.0   \n",
       "3          0.0           1.0                   6.0      13621.0   \n",
       "4          1.0           1.0                   4.0       3789.0   \n",
       "\n",
       "   bc_open_to_buy  bc_util  chargeoff_within_12_mths  delinq_amnt  \\\n",
       "0          7980.0     11.3                       0.0          0.0   \n",
       "1         13968.0     76.8                       0.0          0.0   \n",
       "2         24145.0     33.1                       0.0          0.0   \n",
       "3            39.0     98.4                       0.0          0.0   \n",
       "4         13629.0     41.3                       0.0          0.0   \n",
       "\n",
       "   mo_sin_old_il_acct  mo_sin_old_rev_tl_op  \n",
       "0               166.0                 295.0  \n",
       "1               158.0                 245.0  \n",
       "2               131.0                 143.0  \n",
       "3               148.0                 163.0  \n",
       "4               152.0                 149.0  "
      ]
     },
     "execution_count": 26,
     "metadata": {},
     "output_type": "execute_result"
    }
   ],
   "source": [
    "q117.iloc[:, 60:70].head()"
   ]
  },
  {
   "cell_type": "code",
   "execution_count": 27,
   "metadata": {
    "collapsed": false
   },
   "outputs": [
    {
     "data": {
      "text/html": [
       "<div>\n",
       "<table border=\"1\" class=\"dataframe\">\n",
       "  <thead>\n",
       "    <tr style=\"text-align: right;\">\n",
       "      <th></th>\n",
       "      <th>mo_sin_rcnt_rev_tl_op</th>\n",
       "      <th>mo_sin_rcnt_tl</th>\n",
       "      <th>mort_acc</th>\n",
       "      <th>mths_since_recent_bc</th>\n",
       "      <th>num_accts_ever_120_pd</th>\n",
       "      <th>num_actv_bc_tl</th>\n",
       "      <th>num_actv_rev_tl</th>\n",
       "      <th>num_bc_sats</th>\n",
       "      <th>num_bc_tl</th>\n",
       "      <th>num_il_tl</th>\n",
       "    </tr>\n",
       "  </thead>\n",
       "  <tbody>\n",
       "    <tr>\n",
       "      <th>0</th>\n",
       "      <td>3.0</td>\n",
       "      <td>2.0</td>\n",
       "      <td>0.0</td>\n",
       "      <td>9.0</td>\n",
       "      <td>0.0</td>\n",
       "      <td>1.0</td>\n",
       "      <td>4.0</td>\n",
       "      <td>2.0</td>\n",
       "      <td>3.0</td>\n",
       "      <td>17.0</td>\n",
       "    </tr>\n",
       "    <tr>\n",
       "      <th>1</th>\n",
       "      <td>16.0</td>\n",
       "      <td>16.0</td>\n",
       "      <td>2.0</td>\n",
       "      <td>16.0</td>\n",
       "      <td>0.0</td>\n",
       "      <td>5.0</td>\n",
       "      <td>7.0</td>\n",
       "      <td>6.0</td>\n",
       "      <td>8.0</td>\n",
       "      <td>6.0</td>\n",
       "    </tr>\n",
       "    <tr>\n",
       "      <th>2</th>\n",
       "      <td>4.0</td>\n",
       "      <td>4.0</td>\n",
       "      <td>4.0</td>\n",
       "      <td>4.0</td>\n",
       "      <td>0.0</td>\n",
       "      <td>4.0</td>\n",
       "      <td>5.0</td>\n",
       "      <td>7.0</td>\n",
       "      <td>11.0</td>\n",
       "      <td>9.0</td>\n",
       "    </tr>\n",
       "    <tr>\n",
       "      <th>3</th>\n",
       "      <td>15.0</td>\n",
       "      <td>7.0</td>\n",
       "      <td>6.0</td>\n",
       "      <td>120.0</td>\n",
       "      <td>1.0</td>\n",
       "      <td>1.0</td>\n",
       "      <td>4.0</td>\n",
       "      <td>1.0</td>\n",
       "      <td>3.0</td>\n",
       "      <td>15.0</td>\n",
       "    </tr>\n",
       "    <tr>\n",
       "      <th>4</th>\n",
       "      <td>7.0</td>\n",
       "      <td>3.0</td>\n",
       "      <td>0.0</td>\n",
       "      <td>7.0</td>\n",
       "      <td>9.0</td>\n",
       "      <td>3.0</td>\n",
       "      <td>3.0</td>\n",
       "      <td>5.0</td>\n",
       "      <td>5.0</td>\n",
       "      <td>22.0</td>\n",
       "    </tr>\n",
       "  </tbody>\n",
       "</table>\n",
       "</div>"
      ],
      "text/plain": [
       "   mo_sin_rcnt_rev_tl_op  mo_sin_rcnt_tl  mort_acc  mths_since_recent_bc  \\\n",
       "0                    3.0             2.0       0.0                   9.0   \n",
       "1                   16.0            16.0       2.0                  16.0   \n",
       "2                    4.0             4.0       4.0                   4.0   \n",
       "3                   15.0             7.0       6.0                 120.0   \n",
       "4                    7.0             3.0       0.0                   7.0   \n",
       "\n",
       "   num_accts_ever_120_pd  num_actv_bc_tl  num_actv_rev_tl  num_bc_sats  \\\n",
       "0                    0.0             1.0              4.0          2.0   \n",
       "1                    0.0             5.0              7.0          6.0   \n",
       "2                    0.0             4.0              5.0          7.0   \n",
       "3                    1.0             1.0              4.0          1.0   \n",
       "4                    9.0             3.0              3.0          5.0   \n",
       "\n",
       "   num_bc_tl  num_il_tl  \n",
       "0        3.0       17.0  \n",
       "1        8.0        6.0  \n",
       "2       11.0        9.0  \n",
       "3        3.0       15.0  \n",
       "4        5.0       22.0  "
      ]
     },
     "execution_count": 27,
     "metadata": {},
     "output_type": "execute_result"
    }
   ],
   "source": [
    "q117.iloc[:, 70:80].head()"
   ]
  },
  {
   "cell_type": "code",
   "execution_count": 28,
   "metadata": {
    "collapsed": false
   },
   "outputs": [
    {
     "data": {
      "text/html": [
       "<div>\n",
       "<table border=\"1\" class=\"dataframe\">\n",
       "  <thead>\n",
       "    <tr style=\"text-align: right;\">\n",
       "      <th></th>\n",
       "      <th>num_op_rev_tl</th>\n",
       "      <th>num_rev_accts</th>\n",
       "      <th>num_rev_tl_bal_gt_0</th>\n",
       "      <th>num_sats</th>\n",
       "      <th>num_tl_120dpd_2m</th>\n",
       "      <th>num_tl_30dpd</th>\n",
       "      <th>num_tl_90g_dpd_24m</th>\n",
       "      <th>num_tl_op_past_12m</th>\n",
       "      <th>pct_tl_nvr_dlq</th>\n",
       "      <th>percent_bc_gt_75</th>\n",
       "    </tr>\n",
       "  </thead>\n",
       "  <tbody>\n",
       "    <tr>\n",
       "      <th>0</th>\n",
       "      <td>12.0</td>\n",
       "      <td>16.0</td>\n",
       "      <td>4.0</td>\n",
       "      <td>18.0</td>\n",
       "      <td>0.0</td>\n",
       "      <td>0.0</td>\n",
       "      <td>0.0</td>\n",
       "      <td>6.0</td>\n",
       "      <td>100.0</td>\n",
       "      <td>0.0</td>\n",
       "    </tr>\n",
       "    <tr>\n",
       "      <th>1</th>\n",
       "      <td>8.0</td>\n",
       "      <td>10.0</td>\n",
       "      <td>7.0</td>\n",
       "      <td>11.0</td>\n",
       "      <td>0.0</td>\n",
       "      <td>0.0</td>\n",
       "      <td>0.0</td>\n",
       "      <td>0.0</td>\n",
       "      <td>100.0</td>\n",
       "      <td>66.7</td>\n",
       "    </tr>\n",
       "    <tr>\n",
       "      <th>2</th>\n",
       "      <td>11.0</td>\n",
       "      <td>16.0</td>\n",
       "      <td>5.0</td>\n",
       "      <td>14.0</td>\n",
       "      <td>0.0</td>\n",
       "      <td>0.0</td>\n",
       "      <td>0.0</td>\n",
       "      <td>5.0</td>\n",
       "      <td>100.0</td>\n",
       "      <td>14.3</td>\n",
       "    </tr>\n",
       "    <tr>\n",
       "      <th>3</th>\n",
       "      <td>6.0</td>\n",
       "      <td>12.0</td>\n",
       "      <td>4.0</td>\n",
       "      <td>10.0</td>\n",
       "      <td>0.0</td>\n",
       "      <td>0.0</td>\n",
       "      <td>0.0</td>\n",
       "      <td>1.0</td>\n",
       "      <td>87.5</td>\n",
       "      <td>100.0</td>\n",
       "    </tr>\n",
       "    <tr>\n",
       "      <th>4</th>\n",
       "      <td>5.0</td>\n",
       "      <td>5.0</td>\n",
       "      <td>3.0</td>\n",
       "      <td>16.0</td>\n",
       "      <td>0.0</td>\n",
       "      <td>0.0</td>\n",
       "      <td>0.0</td>\n",
       "      <td>3.0</td>\n",
       "      <td>59.1</td>\n",
       "      <td>20.0</td>\n",
       "    </tr>\n",
       "  </tbody>\n",
       "</table>\n",
       "</div>"
      ],
      "text/plain": [
       "   num_op_rev_tl  num_rev_accts  num_rev_tl_bal_gt_0  num_sats  \\\n",
       "0           12.0           16.0                  4.0      18.0   \n",
       "1            8.0           10.0                  7.0      11.0   \n",
       "2           11.0           16.0                  5.0      14.0   \n",
       "3            6.0           12.0                  4.0      10.0   \n",
       "4            5.0            5.0                  3.0      16.0   \n",
       "\n",
       "   num_tl_120dpd_2m  num_tl_30dpd  num_tl_90g_dpd_24m  num_tl_op_past_12m  \\\n",
       "0               0.0           0.0                 0.0                 6.0   \n",
       "1               0.0           0.0                 0.0                 0.0   \n",
       "2               0.0           0.0                 0.0                 5.0   \n",
       "3               0.0           0.0                 0.0                 1.0   \n",
       "4               0.0           0.0                 0.0                 3.0   \n",
       "\n",
       "   pct_tl_nvr_dlq  percent_bc_gt_75  \n",
       "0           100.0               0.0  \n",
       "1           100.0              66.7  \n",
       "2           100.0              14.3  \n",
       "3            87.5             100.0  \n",
       "4            59.1              20.0  "
      ]
     },
     "execution_count": 28,
     "metadata": {},
     "output_type": "execute_result"
    }
   ],
   "source": [
    "q117.iloc[:, 80:90].head()"
   ]
  },
  {
   "cell_type": "code",
   "execution_count": 37,
   "metadata": {
    "collapsed": false
   },
   "outputs": [
    {
     "data": {
      "text/html": [
       "<div>\n",
       "<table border=\"1\" class=\"dataframe\">\n",
       "  <thead>\n",
       "    <tr style=\"text-align: right;\">\n",
       "      <th></th>\n",
       "      <th>pub_rec_bankruptcies</th>\n",
       "      <th>tax_liens</th>\n",
       "      <th>tot_hi_cred_lim</th>\n",
       "      <th>total_bal_ex_mort</th>\n",
       "      <th>total_bc_limit</th>\n",
       "      <th>total_il_high_credit_limit</th>\n",
       "    </tr>\n",
       "  </thead>\n",
       "  <tbody>\n",
       "    <tr>\n",
       "      <th>0</th>\n",
       "      <td>1.0</td>\n",
       "      <td>0.0</td>\n",
       "      <td>93599.0</td>\n",
       "      <td>36506.0</td>\n",
       "      <td>9000.0</td>\n",
       "      <td>55699.0</td>\n",
       "    </tr>\n",
       "    <tr>\n",
       "      <th>1</th>\n",
       "      <td>0.0</td>\n",
       "      <td>0.0</td>\n",
       "      <td>148572.0</td>\n",
       "      <td>69364.0</td>\n",
       "      <td>60300.0</td>\n",
       "      <td>30224.0</td>\n",
       "    </tr>\n",
       "    <tr>\n",
       "      <th>2</th>\n",
       "      <td>0.0</td>\n",
       "      <td>0.0</td>\n",
       "      <td>205671.0</td>\n",
       "      <td>51591.0</td>\n",
       "      <td>36100.0</td>\n",
       "      <td>36876.0</td>\n",
       "    </tr>\n",
       "    <tr>\n",
       "      <th>3</th>\n",
       "      <td>0.0</td>\n",
       "      <td>0.0</td>\n",
       "      <td>152852.0</td>\n",
       "      <td>136208.0</td>\n",
       "      <td>2500.0</td>\n",
       "      <td>139652.0</td>\n",
       "    </tr>\n",
       "    <tr>\n",
       "      <th>4</th>\n",
       "      <td>0.0</td>\n",
       "      <td>0.0</td>\n",
       "      <td>72865.0</td>\n",
       "      <td>60622.0</td>\n",
       "      <td>23200.0</td>\n",
       "      <td>49665.0</td>\n",
       "    </tr>\n",
       "  </tbody>\n",
       "</table>\n",
       "</div>"
      ],
      "text/plain": [
       "   pub_rec_bankruptcies  tax_liens  tot_hi_cred_lim  total_bal_ex_mort  \\\n",
       "0                   1.0        0.0          93599.0            36506.0   \n",
       "1                   0.0        0.0         148572.0            69364.0   \n",
       "2                   0.0        0.0         205671.0            51591.0   \n",
       "3                   0.0        0.0         152852.0           136208.0   \n",
       "4                   0.0        0.0          72865.0            60622.0   \n",
       "\n",
       "   total_bc_limit  total_il_high_credit_limit  \n",
       "0          9000.0                     55699.0  \n",
       "1         60300.0                     30224.0  \n",
       "2         36100.0                     36876.0  \n",
       "3          2500.0                    139652.0  \n",
       "4         23200.0                     49665.0  "
      ]
     },
     "execution_count": 37,
     "metadata": {},
     "output_type": "execute_result"
    }
   ],
   "source": [
    "q117.iloc[:, 90:96].head()"
   ]
  },
  {
   "cell_type": "code",
   "execution_count": 38,
   "metadata": {
    "collapsed": false
   },
   "outputs": [
    {
     "data": {
      "text/plain": [
       "<matplotlib.axes._subplots.AxesSubplot at 0x163a7510320>"
      ]
     },
     "execution_count": 38,
     "metadata": {},
     "output_type": "execute_result"
    },
    {
     "data": {
      "image/png": "[encoded data removed]",
      "text/plain": [
       "<matplotlib.figure.Figure at 0x163a7d95d30>"
      ]
     },
     "metadata": {},
     "output_type": "display_data"
    }
   ],
   "source": [
    "# Grade distribution. Most borrowers fall in grades B and C\n",
    "q117.groupby('grade').size().plot(kind='bar')"
   ]
  },
  {
   "cell_type": "code",
   "execution_count": 19,
   "metadata": {
    "collapsed": false,
    "scrolled": true
   },
   "outputs": [
    {
     "data": {
      "text/plain": [
       "<matplotlib.axes._subplots.AxesSubplot at 0x1a1adc55a20>"
      ]
     },
     "execution_count": 19,
     "metadata": {},
     "output_type": "execute_result"
    },
    {
     "data": {
      "image/png": "[encoded data removed]",
      "text/plain": [
       "<matplotlib.figure.Figure at 0x1a1adc43c88>"
      ]
     },
     "metadata": {},
     "output_type": "display_data"
    }
   ],
   "source": [
    "# Sub grade distribution. Within B and C, B5 and C1 have the most number of borrowers\n",
    "q117.groupby('sub_grade').size().plot(kind='bar')"
   ]
  },
  {
   "cell_type": "code",
   "execution_count": 74,
   "metadata": {
    "collapsed": false
   },
   "outputs": [],
   "source": [
    "# To do: plot stacked column chart of grade"
   ]
  },
  {
   "cell_type": "code",
   "execution_count": 121,
   "metadata": {
    "collapsed": false
   },
   "outputs": [
    {
     "data": {
      "text/plain": [
       "(array([  3544.,   2161.,   7401.,   5211.,      0.,   3673.,  15134.,\n",
       "          7332.,  10150.,   5411.,   5286.,   3551.,   2174.,   2321.,\n",
       "          1096.,      0.,    296.,   1392.,    923.,    450.,    704.,\n",
       "           570.,      0.,    600.,    485.,    771.]),\n",
       " array([ 5,  6,  7,  8,  9, 10, 11, 12, 13, 14, 15, 16, 17, 18, 19, 20, 21,\n",
       "        22, 23, 24, 25, 26, 27, 28, 29, 30, 31]),\n",
       " <a list of 26 Patch objects>)"
      ]
     },
     "execution_count": 121,
     "metadata": {},
     "output_type": "execute_result"
    },
    {
     "data": {
      "image/png": "[encoded data removed]",
      "text/plain": [
       "<matplotlib.figure.Figure at 0x163c2256b38>"
      ]
     },
     "metadata": {},
     "output_type": "display_data"
    }
   ],
   "source": [
    "# Distribution of interest rates\n",
    "# There are no loans with interest rates between 9-10% and 20-21%\n",
    "# To do: plot distribution by grade\n",
    "f1, ax1 = plt.subplots()\n",
    "bins=[x+5 for x in range(27)]\n",
    "ax1.hist(q117.int_rate, bins, width=0.8)"
   ]
  },
  {
   "cell_type": "code",
   "execution_count": null,
   "metadata": {
    "collapsed": true
   },
   "outputs": [],
   "source": []
  },
  {
   "cell_type": "code",
   "execution_count": null,
   "metadata": {
    "collapsed": true
   },
   "outputs": [],
   "source": []
  },
  {
   "cell_type": "code",
   "execution_count": null,
   "metadata": {
    "collapsed": true
   },
   "outputs": [],
   "source": []
  },
  {
   "cell_type": "code",
   "execution_count": null,
   "metadata": {
    "collapsed": true
   },
   "outputs": [],
   "source": []
  },
  {
   "cell_type": "code",
   "execution_count": null,
   "metadata": {
    "collapsed": true
   },
   "outputs": [],
   "source": []
  },
  {
   "cell_type": "code",
   "execution_count": null,
   "metadata": {
    "collapsed": true
   },
   "outputs": [],
   "source": []
  },
  {
   "cell_type": "code",
   "execution_count": 21,
   "metadata": {
    "collapsed": false
   },
   "outputs": [],
   "source": []
  },
  {
   "cell_type": "code",
   "execution_count": 91,
   "metadata": {
    "collapsed": false
   },
   "outputs": [
    {
     "data": {
      "text/plain": [
       "(0, 500)"
      ]
     },
     "execution_count": 91,
     "metadata": {},
     "output_type": "execute_result"
    },
    {
     "data": {
      "image/png": "[encoded data removed]",
      "text/plain": [
       "<matplotlib.figure.Figure at 0x1a1a53fceb8>"
      ]
     },
     "metadata": {},
     "output_type": "display_data"
    }
   ],
   "source": [
    "# Scatter plot dti (debt to income ratio) vs interest rate. Exclude dti >= 500. Inconclusive chart\n",
    "# How can I add R2?\n",
    "q117dti = q117[q117.dti<500]\n",
    "fig, axes = plt.subplots()\n",
    "axes.scatter(q117.dti, q117.int_rate)\n",
    "axes.set_xlabel('DTI')\n",
    "axes.set_ylabel('Interest rate')\n",
    "axes.set_xlim(right=500, left=0)"
   ]
  },
  {
   "cell_type": "code",
   "execution_count": 23,
   "metadata": {
    "collapsed": false
   },
   "outputs": [
    {
     "data": {
      "text/plain": [
       "<matplotlib.axes._subplots.AxesSubplot at 0x1a1a1821198>"
      ]
     },
     "execution_count": 23,
     "metadata": {},
     "output_type": "execute_result"
    },
    {
     "data": {
      "image/png": "[encoded data removed]",
      "text/plain": [
       "<matplotlib.figure.Figure at 0x1a1ac952d30>"
      ]
     },
     "metadata": {},
     "output_type": "display_data"
    }
   ],
   "source": [
    "# Attempt to plot # of chargeoffs within 12 months by grade. Chart would be better if this could be shown as a % breakout\n",
    "q117.groupby(['grade', 'chargeoff_within_12_mths']).size().plot(kind='bar')"
   ]
  },
  {
   "cell_type": "code",
   "execution_count": 24,
   "metadata": {
    "collapsed": false
   },
   "outputs": [
    {
     "data": {
      "text/plain": [
       "<matplotlib.axes._subplots.AxesSubplot at 0x1a194041080>"
      ]
     },
     "execution_count": 24,
     "metadata": {},
     "output_type": "execute_result"
    },
    {
     "data": {
      "image/png": "[encoded data removed]",
      "text/plain": [
       "<matplotlib.figure.Figure at 0x1a193e4cfd0>"
      ]
     },
     "metadata": {},
     "output_type": "display_data"
    }
   ],
   "source": [
    "# Plot average loan size by grade. Interestingly, loan size increases as credit quality decreases\n",
    "# Again, would be nice to have this by % breakout. I also want to add some correlation stats\n",
    "q117.groupby('grade').mean().loan_amnt.plot(kind='bar')"
   ]
  },
  {
   "cell_type": "code",
   "execution_count": 25,
   "metadata": {
    "collapsed": false
   },
   "outputs": [
    {
     "data": {
      "text/plain": [
       "<matplotlib.axes._subplots.AxesSubplot at 0x1a194174080>"
      ]
     },
     "execution_count": 25,
     "metadata": {},
     "output_type": "execute_result"
    },
    {
     "data": {
      "image/png": "[encoded data removed]",
      "text/plain": [
       "<matplotlib.figure.Figure at 0x1a1941e1240>"
      ]
     },
     "metadata": {},
     "output_type": "display_data"
    }
   ],
   "source": [
    "# Plot home ownership type count by grade. Again, would be nice to have this by % breakout\n",
    "q117.groupby(['grade', 'home_ownership']).size().plot(kind='bar')"
   ]
  },
  {
   "cell_type": "code",
   "execution_count": 26,
   "metadata": {
    "collapsed": false
   },
   "outputs": [
    {
     "data": {
      "text/plain": [
       "<matplotlib.axes._subplots.AxesSubplot at 0x1a194321240>"
      ]
     },
     "execution_count": 26,
     "metadata": {},
     "output_type": "execute_result"
    },
    {
     "data": {
      "image/png": "[encoded data removed]",
      "text/plain": [
       "<matplotlib.figure.Figure at 0x1a19432c320>"
      ]
     },
     "metadata": {},
     "output_type": "display_data"
    }
   ],
   "source": [
    "# Show breakout of loan status. Would be nice if I could make the formatting was better\n",
    "q117.groupby('loan_status').size().plot(kind='pie', autopct='%1.1f%%')"
   ]
  },
  {
   "cell_type": "code",
   "execution_count": 27,
   "metadata": {
    "collapsed": false
   },
   "outputs": [
    {
     "data": {
      "text/plain": [
       "<matplotlib.text.Text at 0x1a19442b198>"
      ]
     },
     "execution_count": 27,
     "metadata": {},
     "output_type": "execute_result"
    },
    {
     "data": {
      "image/png": "[encoded data removed]",
      "text/plain": [
       "<matplotlib.figure.Figure at 0x1a1943122e8>"
      ]
     },
     "metadata": {},
     "output_type": "display_data"
    }
   ],
   "source": [
    "# Graph the above chart using different matplotlib methods. How can I get the labels to auto populate?\n",
    "fig, axes = plt.subplots()\n",
    "axes.pie(q117.groupby('loan_status').size(), autopct='%1.1f%%')\n",
    "axes.set_title('Loan Status')"
   ]
  },
  {
   "cell_type": "code",
   "execution_count": 29,
   "metadata": {
    "collapsed": false
   },
   "outputs": [
    {
     "data": {
      "text/plain": [
       "<matplotlib.text.Text at 0x1a1940c89b0>"
      ]
     },
     "execution_count": 29,
     "metadata": {},
     "output_type": "execute_result"
    },
    {
     "data": {
      "image/png": "[encoded data removed]",
      "text/plain": [
       "<matplotlib.figure.Figure at 0x1a19448eda0>"
      ]
     },
     "metadata": {},
     "output_type": "display_data"
    }
   ],
   "source": [
    "# Scatter plot interest rate vs revolver utilization. Inconclusive\n",
    "fig, axes = plt.subplots()\n",
    "axes.scatter(q117.int_rate, q117.revol_util)\n",
    "axes.set_xlabel('Interest rate')\n",
    "axes.set_ylabel('Revolver utilization')"
   ]
  },
  {
   "cell_type": "code",
   "execution_count": 88,
   "metadata": {
    "collapsed": false
   },
   "outputs": [
    {
     "data": {
      "text/plain": [
       "(0, 500000)"
      ]
     },
     "execution_count": 88,
     "metadata": {},
     "output_type": "execute_result"
    },
    {
     "data": {
      "image/png": "[encoded data removed]",
      "text/plain": [
       "<matplotlib.figure.Figure at 0x1a1a7192828>"
      ]
     },
     "metadata": {},
     "output_type": "display_data"
    }
   ],
   "source": [
    "# Scatter plot interest rate vs annual income. Inconclusive\n",
    "# How can I add R2?\n",
    "fig, axes = plt.subplots()\n",
    "axes.scatter(q117.int_rate, q117.annual_inc)\n",
    "axes.set_xlabel('Interest rate')\n",
    "axes.set_ylabel('Annual income')\n",
    "\n",
    "# Is this the best way to set ylim?\n",
    "axes.set_ylim(top=500000, bottom=0)"
   ]
  },
  {
   "cell_type": "code",
   "execution_count": 54,
   "metadata": {
    "collapsed": false
   },
   "outputs": [
    {
     "data": {
      "text/plain": [
       "<matplotlib.text.Text at 0x1a1a3d24f60>"
      ]
     },
     "execution_count": 54,
     "metadata": {},
     "output_type": "execute_result"
    },
    {
     "data": {
      "image/png": "[encoded data removed]",
      "text/plain": [
       "<matplotlib.figure.Figure at 0x1a1a3c8e278>"
      ]
     },
     "metadata": {},
     "output_type": "display_data"
    }
   ],
   "source": [
    "# Scatter plot interest rate vs annual income. No correlation\n",
    "# How can I add R2?\n",
    "fig, axes = plt.subplots()\n",
    "axes.scatter(q117.int_rate, q117.loan_amnt)\n",
    "axes.set_xlabel('Interest rate')\n",
    "axes.set_ylabel('Loan amount')"
   ]
  },
  {
   "cell_type": "code",
   "execution_count": 61,
   "metadata": {
    "collapsed": false
   },
   "outputs": [
    {
     "data": {
      "text/plain": [
       "<matplotlib.axes._subplots.AxesSubplot at 0x1a1a53d7748>"
      ]
     },
     "execution_count": 61,
     "metadata": {},
     "output_type": "execute_result"
    },
    {
     "data": {
      "image/png": "[encoded data removed]",
      "text/plain": [
       "<matplotlib.figure.Figure at 0x1a1a53f7668>"
      ]
     },
     "metadata": {},
     "output_type": "display_data"
    }
   ],
   "source": [
    "# Plot count of purpose of loans using value_counts instead of groupby\n",
    "# How can I efficiently show as %s?\n",
    "q117.purpose.value_counts().plot(kind='bar')"
   ]
  },
  {
   "cell_type": "code",
   "execution_count": 62,
   "metadata": {
    "collapsed": false
   },
   "outputs": [
    {
     "data": {
      "text/plain": [
       "<matplotlib.axes._subplots.AxesSubplot at 0x1a1a5432748>"
      ]
     },
     "execution_count": 62,
     "metadata": {},
     "output_type": "execute_result"
    },
    {
     "data": {
      "image/png": "[encoded data removed]",
      "text/plain": [
       "<matplotlib.figure.Figure at 0x1a1a54f95c0>"
      ]
     },
     "metadata": {},
     "output_type": "display_data"
    }
   ],
   "source": [
    "# Plot pie chart of count of purpose of loans using value_counts instead of groupby\n",
    "# How can I format the text better?\n",
    "q117.purpose.value_counts().plot(kind='pie', autopct='%1.0f%%')"
   ]
  },
  {
   "cell_type": "code",
   "execution_count": 68,
   "metadata": {
    "collapsed": false
   },
   "outputs": [
    {
     "data": {
      "text/plain": [
       "['__class__',\n",
       " '__delattr__',\n",
       " '__dict__',\n",
       " '__dir__',\n",
       " '__doc__',\n",
       " '__eq__',\n",
       " '__format__',\n",
       " '__ge__',\n",
       " '__getattribute__',\n",
       " '__getstate__',\n",
       " '__gt__',\n",
       " '__hash__',\n",
       " '__init__',\n",
       " '__init_subclass__',\n",
       " '__le__',\n",
       " '__lt__',\n",
       " '__module__',\n",
       " '__ne__',\n",
       " '__new__',\n",
       " '__reduce__',\n",
       " '__reduce_ex__',\n",
       " '__repr__',\n",
       " '__setattr__',\n",
       " '__setstate__',\n",
       " '__sizeof__',\n",
       " '__str__',\n",
       " '__subclasshook__',\n",
       " '__weakref__',\n",
       " '_add_text',\n",
       " '_adjustable',\n",
       " '_agg_filter',\n",
       " '_alpha',\n",
       " '_anchor',\n",
       " '_animated',\n",
       " '_aspect',\n",
       " '_autoscaleXon',\n",
       " '_autoscaleYon',\n",
       " '_axes',\n",
       " '_axes_class',\n",
       " '_axes_locator',\n",
       " '_axisbelow',\n",
       " '_cachedRenderer',\n",
       " '_clipon',\n",
       " '_clippath',\n",
       " '_connected',\n",
       " '_contains',\n",
       " '_current_image',\n",
       " '_cursorProps',\n",
       " '_facecolor',\n",
       " '_frameon',\n",
       " '_gci',\n",
       " '_gen_axes_patch',\n",
       " '_gen_axes_spines',\n",
       " '_get_axis_list',\n",
       " '_get_legend_handles',\n",
       " '_get_lines',\n",
       " '_get_patches_for_fill',\n",
       " '_get_view',\n",
       " '_gid',\n",
       " '_gridOn',\n",
       " '_hold',\n",
       " '_init_axis',\n",
       " '_label',\n",
       " '_left_title',\n",
       " '_make_twin_axes',\n",
       " '_mouseover',\n",
       " '_navigate',\n",
       " '_navigate_mode',\n",
       " '_oid',\n",
       " '_originalPosition',\n",
       " '_path_effects',\n",
       " '_pcolorargs',\n",
       " '_picker',\n",
       " '_position',\n",
       " '_process_unit_info',\n",
       " '_prop_order',\n",
       " '_propobservers',\n",
       " '_rasterization_zorder',\n",
       " '_rasterized',\n",
       " '_remove_method',\n",
       " '_right_title',\n",
       " '_sci',\n",
       " '_set_artist_props',\n",
       " '_set_gc_clip',\n",
       " '_set_lim_and_transforms',\n",
       " '_set_view',\n",
       " '_set_view_from_bbox',\n",
       " '_shared_x_axes',\n",
       " '_shared_y_axes',\n",
       " '_sharex',\n",
       " '_sharey',\n",
       " '_sketch',\n",
       " '_snap',\n",
       " '_stale',\n",
       " '_sticky_edges',\n",
       " '_subplotspec',\n",
       " '_tight',\n",
       " '_transform',\n",
       " '_transformSet',\n",
       " '_update_line_limits',\n",
       " '_update_patch_limits',\n",
       " '_update_transScale',\n",
       " '_url',\n",
       " '_use_sticky_edges',\n",
       " '_visible',\n",
       " '_xaxis_transform',\n",
       " '_xcid',\n",
       " '_xmargin',\n",
       " '_yaxis_transform',\n",
       " '_ycid',\n",
       " '_ymargin',\n",
       " 'acorr',\n",
       " 'add_artist',\n",
       " 'add_callback',\n",
       " 'add_collection',\n",
       " 'add_container',\n",
       " 'add_image',\n",
       " 'add_line',\n",
       " 'add_patch',\n",
       " 'add_table',\n",
       " 'aname',\n",
       " 'angle_spectrum',\n",
       " 'annotate',\n",
       " 'apply_aspect',\n",
       " 'arrow',\n",
       " 'artists',\n",
       " 'autoscale',\n",
       " 'autoscale_view',\n",
       " 'axes',\n",
       " 'axesPatch',\n",
       " 'axhline',\n",
       " 'axhspan',\n",
       " 'axis',\n",
       " 'axison',\n",
       " 'axvline',\n",
       " 'axvspan',\n",
       " 'bar',\n",
       " 'barbs',\n",
       " 'barh',\n",
       " 'bbox',\n",
       " 'boxplot',\n",
       " 'broken_barh',\n",
       " 'bxp',\n",
       " 'callbacks',\n",
       " 'can_pan',\n",
       " 'can_zoom',\n",
       " 'change_geometry',\n",
       " 'cla',\n",
       " 'clabel',\n",
       " 'clear',\n",
       " 'clipbox',\n",
       " 'cohere',\n",
       " 'colNum',\n",
       " 'collections',\n",
       " 'containers',\n",
       " 'contains',\n",
       " 'contains_point',\n",
       " 'contour',\n",
       " 'contourf',\n",
       " 'convert_xunits',\n",
       " 'convert_yunits',\n",
       " 'csd',\n",
       " 'dataLim',\n",
       " 'drag_pan',\n",
       " 'draw',\n",
       " 'draw_artist',\n",
       " 'end_pan',\n",
       " 'errorbar',\n",
       " 'eventplot',\n",
       " 'eventson',\n",
       " 'figbox',\n",
       " 'figure',\n",
       " 'fill',\n",
       " 'fill_between',\n",
       " 'fill_betweenx',\n",
       " 'findobj',\n",
       " 'fmt_xdata',\n",
       " 'fmt_ydata',\n",
       " 'format_coord',\n",
       " 'format_cursor_data',\n",
       " 'format_xdata',\n",
       " 'format_ydata',\n",
       " 'get_adjustable',\n",
       " 'get_agg_filter',\n",
       " 'get_alpha',\n",
       " 'get_anchor',\n",
       " 'get_animated',\n",
       " 'get_aspect',\n",
       " 'get_autoscale_on',\n",
       " 'get_autoscalex_on',\n",
       " 'get_autoscaley_on',\n",
       " 'get_axes',\n",
       " 'get_axes_locator',\n",
       " 'get_axis_bgcolor',\n",
       " 'get_axisbelow',\n",
       " 'get_children',\n",
       " 'get_clip_box',\n",
       " 'get_clip_on',\n",
       " 'get_clip_path',\n",
       " 'get_contains',\n",
       " 'get_cursor_data',\n",
       " 'get_cursor_props',\n",
       " 'get_data_ratio',\n",
       " 'get_data_ratio_log',\n",
       " 'get_default_bbox_extra_artists',\n",
       " 'get_facecolor',\n",
       " 'get_fc',\n",
       " 'get_figure',\n",
       " 'get_frame_on',\n",
       " 'get_geometry',\n",
       " 'get_gid',\n",
       " 'get_images',\n",
       " 'get_label',\n",
       " 'get_legend',\n",
       " 'get_legend_handles_labels',\n",
       " 'get_lines',\n",
       " 'get_navigate',\n",
       " 'get_navigate_mode',\n",
       " 'get_path_effects',\n",
       " 'get_picker',\n",
       " 'get_position',\n",
       " 'get_rasterization_zorder',\n",
       " 'get_rasterized',\n",
       " 'get_renderer_cache',\n",
       " 'get_shared_x_axes',\n",
       " 'get_shared_y_axes',\n",
       " 'get_sketch_params',\n",
       " 'get_snap',\n",
       " 'get_subplotspec',\n",
       " 'get_tightbbox',\n",
       " 'get_title',\n",
       " 'get_transform',\n",
       " 'get_transformed_clip_path_and_affine',\n",
       " 'get_url',\n",
       " 'get_visible',\n",
       " 'get_window_extent',\n",
       " 'get_xaxis',\n",
       " 'get_xaxis_text1_transform',\n",
       " 'get_xaxis_text2_transform',\n",
       " 'get_xaxis_transform',\n",
       " 'get_xbound',\n",
       " 'get_xgridlines',\n",
       " 'get_xlabel',\n",
       " 'get_xlim',\n",
       " 'get_xmajorticklabels',\n",
       " 'get_xminorticklabels',\n",
       " 'get_xscale',\n",
       " 'get_xticklabels',\n",
       " 'get_xticklines',\n",
       " 'get_xticks',\n",
       " 'get_yaxis',\n",
       " 'get_yaxis_text1_transform',\n",
       " 'get_yaxis_text2_transform',\n",
       " 'get_yaxis_transform',\n",
       " 'get_ybound',\n",
       " 'get_ygridlines',\n",
       " 'get_ylabel',\n",
       " 'get_ylim',\n",
       " 'get_ymajorticklabels',\n",
       " 'get_yminorticklabels',\n",
       " 'get_yscale',\n",
       " 'get_yticklabels',\n",
       " 'get_yticklines',\n",
       " 'get_yticks',\n",
       " 'get_zorder',\n",
       " 'grid',\n",
       " 'has_data',\n",
       " 'have_units',\n",
       " 'hexbin',\n",
       " 'hist',\n",
       " 'hist2d',\n",
       " 'hitlist',\n",
       " 'hlines',\n",
       " 'hold',\n",
       " 'ignore_existing_data_limits',\n",
       " 'images',\n",
       " 'imshow',\n",
       " 'in_axes',\n",
       " 'invert_xaxis',\n",
       " 'invert_yaxis',\n",
       " 'is_figure_set',\n",
       " 'is_first_col',\n",
       " 'is_first_row',\n",
       " 'is_last_col',\n",
       " 'is_last_row',\n",
       " 'is_transform_set',\n",
       " 'ishold',\n",
       " 'label_outer',\n",
       " 'legend',\n",
       " 'legend_',\n",
       " 'lines',\n",
       " 'locator_params',\n",
       " 'loglog',\n",
       " 'magnitude_spectrum',\n",
       " 'margins',\n",
       " 'matshow',\n",
       " 'minorticks_off',\n",
       " 'minorticks_on',\n",
       " 'mouseover',\n",
       " 'mouseover_set',\n",
       " 'name',\n",
       " 'numCols',\n",
       " 'numRows',\n",
       " 'patch',\n",
       " 'patches',\n",
       " 'pchanged',\n",
       " 'pcolor',\n",
       " 'pcolorfast',\n",
       " 'pcolormesh',\n",
       " 'phase_spectrum',\n",
       " 'pick',\n",
       " 'pickable',\n",
       " 'pie',\n",
       " 'plot',\n",
       " 'plot_date',\n",
       " 'properties',\n",
       " 'psd',\n",
       " 'quiver',\n",
       " 'quiverkey',\n",
       " 'redraw_in_frame',\n",
       " 'relim',\n",
       " 'remove',\n",
       " 'remove_callback',\n",
       " 'reset_position',\n",
       " 'rowNum',\n",
       " 'scatter',\n",
       " 'semilogx',\n",
       " 'semilogy',\n",
       " 'set',\n",
       " 'set_adjustable',\n",
       " 'set_agg_filter',\n",
       " 'set_alpha',\n",
       " 'set_anchor',\n",
       " 'set_animated',\n",
       " 'set_aspect',\n",
       " 'set_autoscale_on',\n",
       " 'set_autoscalex_on',\n",
       " 'set_autoscaley_on',\n",
       " 'set_axes',\n",
       " 'set_axes_locator',\n",
       " 'set_axis_bgcolor',\n",
       " 'set_axis_off',\n",
       " 'set_axis_on',\n",
       " 'set_axisbelow',\n",
       " 'set_clip_box',\n",
       " 'set_clip_on',\n",
       " 'set_clip_path',\n",
       " 'set_color_cycle',\n",
       " 'set_contains',\n",
       " 'set_cursor_props',\n",
       " 'set_facecolor',\n",
       " 'set_fc',\n",
       " 'set_figure',\n",
       " 'set_frame_on',\n",
       " 'set_gid',\n",
       " 'set_label',\n",
       " 'set_navigate',\n",
       " 'set_navigate_mode',\n",
       " 'set_path_effects',\n",
       " 'set_picker',\n",
       " 'set_position',\n",
       " 'set_prop_cycle',\n",
       " 'set_rasterization_zorder',\n",
       " 'set_rasterized',\n",
       " 'set_sketch_params',\n",
       " 'set_snap',\n",
       " 'set_subplotspec',\n",
       " 'set_title',\n",
       " 'set_transform',\n",
       " 'set_url',\n",
       " 'set_visible',\n",
       " 'set_xbound',\n",
       " 'set_xlabel',\n",
       " 'set_xlim',\n",
       " 'set_xmargin',\n",
       " 'set_xscale',\n",
       " 'set_xticklabels',\n",
       " 'set_xticks',\n",
       " 'set_ybound',\n",
       " 'set_ylabel',\n",
       " 'set_ylim',\n",
       " 'set_ymargin',\n",
       " 'set_yscale',\n",
       " 'set_yticklabels',\n",
       " 'set_yticks',\n",
       " 'set_zorder',\n",
       " 'specgram',\n",
       " 'spines',\n",
       " 'spy',\n",
       " 'stackplot',\n",
       " 'stale',\n",
       " 'stale_callback',\n",
       " 'start_pan',\n",
       " 'stem',\n",
       " 'step',\n",
       " 'sticky_edges',\n",
       " 'streamplot',\n",
       " 'table',\n",
       " 'tables',\n",
       " 'text',\n",
       " 'texts',\n",
       " 'tick_params',\n",
       " 'ticklabel_format',\n",
       " 'title',\n",
       " 'titleOffsetTrans',\n",
       " 'transAxes',\n",
       " 'transData',\n",
       " 'transLimits',\n",
       " 'transScale',\n",
       " 'tricontour',\n",
       " 'tricontourf',\n",
       " 'tripcolor',\n",
       " 'triplot',\n",
       " 'twinx',\n",
       " 'twiny',\n",
       " 'update',\n",
       " 'update_datalim',\n",
       " 'update_datalim_bounds',\n",
       " 'update_datalim_numerix',\n",
       " 'update_from',\n",
       " 'update_params',\n",
       " 'use_sticky_edges',\n",
       " 'viewLim',\n",
       " 'violin',\n",
       " 'violinplot',\n",
       " 'vlines',\n",
       " 'xaxis',\n",
       " 'xaxis_date',\n",
       " 'xaxis_inverted',\n",
       " 'xcorr',\n",
       " 'yaxis',\n",
       " 'yaxis_date',\n",
       " 'yaxis_inverted',\n",
       " 'zorder']"
      ]
     },
     "execution_count": 68,
     "metadata": {},
     "output_type": "execute_result"
    },
    {
     "data": {
      "image/png": "[encoded data removed]",
      "text/plain": [
       "<matplotlib.figure.Figure at 0x1a1a560b668>"
      ]
     },
     "metadata": {},
     "output_type": "display_data"
    }
   ],
   "source": [
    "dir(q117.purpose.value_counts().plot(kind='bar'))"
   ]
  },
  {
   "cell_type": "code",
   "execution_count": null,
   "metadata": {
    "collapsed": true
   },
   "outputs": [],
   "source": []
  },
  {
   "cell_type": "code",
   "execution_count": null,
   "metadata": {
    "collapsed": true
   },
   "outputs": [],
   "source": []
  },
  {
   "cell_type": "code",
   "execution_count": null,
   "metadata": {
    "collapsed": true
   },
   "outputs": [],
   "source": []
  },
  {
   "cell_type": "code",
   "execution_count": null,
   "metadata": {
    "collapsed": true
   },
   "outputs": [],
   "source": []
  },
  {
   "cell_type": "code",
   "execution_count": null,
   "metadata": {
    "collapsed": true
   },
   "outputs": [],
   "source": []
  },
  {
   "cell_type": "code",
   "execution_count": null,
   "metadata": {
    "collapsed": true
   },
   "outputs": [],
   "source": []
  }
 ],
 "metadata": {
  "kernelspec": {
   "display_name": "Python 3",
   "language": "python",
   "name": "python3"
  },
  "language_info": {
   "codemirror_mode": {
    "name": "ipython",
    "version": 3
   },
   "file_extension": ".py",
   "mimetype": "text/x-python",
   "name": "python",
   "nbconvert_exporter": "python",
   "pygments_lexer": "ipython3",
   "version": "3.6.0"
  }
 },
 "nbformat": 4,
 "nbformat_minor": 2
}
